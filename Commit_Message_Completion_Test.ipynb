{
  "nbformat": 4,
  "nbformat_minor": 0,
  "metadata": {
    "colab": {
      "provenance": [],
      "collapsed_sections": []
    },
    "kernelspec": {
      "name": "python3",
      "display_name": "Python 3"
    },
    "language_info": {
      "name": "python"
    },
    "accelerator": "GPU",
    "gpuClass": "standard"
  },
  "cells": [
    {
      "cell_type": "code",
      "execution_count": null,
      "metadata": {
        "id": "10dgqprMCWSD"
      },
      "outputs": [],
      "source": [
        "!unzip What-Makes-a-Good-Commit-Message-master.zip"
      ]
    },
    {
      "cell_type": "code",
      "source": [
        "!pip install -U sentence-transformers"
      ],
      "metadata": {
        "id": "LZJKcZveTDJ9"
      },
      "execution_count": null,
      "outputs": []
    },
    {
      "cell_type": "markdown",
      "source": [
        "## Imports"
      ],
      "metadata": {
        "id": "c0oUHnl8CDCF"
      }
    },
    {
      "cell_type": "code",
      "source": [
        "import torch\n",
        "from torch.utils.data import Dataset\n",
        "from torch.utils.data import DataLoader\n",
        "import torch.nn as nn\n",
        "import torch.nn.functional as F\n",
        "import torch.optim as optim\n",
        "\n",
        "from itertools import compress\n",
        "\n",
        "import pandas as pd\n",
        "import numpy as np\n",
        "import re\n",
        "import matplotlib.pylab as plt\n",
        "\n",
        "from sentence_transformers import SentenceTransformer\n",
        "from transformers import BertTokenizer, BertModel\n",
        "from transformers import AutoTokenizer, AutoModel"
      ],
      "metadata": {
        "id": "baZ0giheQCAv"
      },
      "execution_count": null,
      "outputs": []
    },
    {
      "cell_type": "code",
      "source": [
        "device = torch.device(\"cuda\" if torch.cuda.is_available() else \"cpu\")"
      ],
      "metadata": {
        "id": "GnYljrJHEwtS"
      },
      "execution_count": 2,
      "outputs": []
    },
    {
      "cell_type": "markdown",
      "source": [
        "##Data processing"
      ],
      "metadata": {
        "id": "MbQVvLmUCTqP"
      }
    },
    {
      "cell_type": "code",
      "source": [
        "dataset_path = '/content/What-Makes-a-Good-Commit-Message-master/Dataset/sampled messages.csv'\n",
        "data = pd.read_csv(dataset_path, encoding='UTF-8', encoding_errors='ignore')"
      ],
      "metadata": {
        "id": "R1dqYRDjWtdp"
      },
      "execution_count": 3,
      "outputs": []
    },
    {
      "cell_type": "code",
      "source": [
        "!wc -l /content/What-Makes-a-Good-Commit-Message-master/Dataset/sampled\\ messages.csv"
      ],
      "metadata": {
        "id": "oa-RI9NoWthV",
        "colab": {
          "base_uri": "https://localhost:8080/"
        },
        "outputId": "a6f1f6a7-bb14-4d48-c154-1252937a54a7"
      },
      "execution_count": 4,
      "outputs": [
        {
          "output_type": "stream",
          "name": "stdout",
          "text": [
            "1653 /content/What-Makes-a-Good-Commit-Message-master/Dataset/sampled messages.csv\n"
          ]
        }
      ]
    },
    {
      "cell_type": "code",
      "source": [
        "data"
      ],
      "metadata": {
        "colab": {
          "base_uri": "https://localhost:8080/",
          "height": 678
        },
        "id": "arxZfqlVeD21",
        "outputId": "2fea015f-effa-4096-97f1-50b870ed3f8b"
      },
      "execution_count": 5,
      "outputs": [
        {
          "output_type": "execute_result",
          "data": {
            "text/plain": [
              "         id  repo_id  label  \\\n",
              "0      3079        2      0   \n",
              "1      5904        4      0   \n",
              "2      4224        2      0   \n",
              "3      5382        3      0   \n",
              "4      6983        4      3   \n",
              "...     ...      ...    ...   \n",
              "1644   3452        2      0   \n",
              "1645   3786        2      2   \n",
              "1646   3497        2      0   \n",
              "1647  13889        5      0   \n",
              "1648   2960        2      2   \n",
              "\n",
              "                                                    url if_mulit_commit  \\\n",
              "0     https://github.com/apache/dubbo/commit/1b2e6dc...               1   \n",
              "1     https://github.com/square/okhttp/commit/2fd0da...                   \n",
              "2     https://github.com/apache/dubbo/commit/9e9e778...                   \n",
              "3     https://github.com/square/retrofit/commit/0754...                   \n",
              "4     https://github.com/square/okhttp/commit/c310d2...                   \n",
              "...                                                 ...             ...   \n",
              "1644  https://github.com/apache/dubbo/commit/789775b...                   \n",
              "1645  https://github.com/apache/dubbo/commit/84d355f...                   \n",
              "1646  https://github.com/apache/dubbo/commit/3bdc316...                   \n",
              "1647  https://github.com/spring-projects/spring-boot...                   \n",
              "1648  https://github.com/apache/dubbo/commit/055f1cc...                   \n",
              "\n",
              "                                                message  \\\n",
              "0     remove some magic value (#4752) <enter>  <ente...   \n",
              "1                         Update concurrency.md (#6290)   \n",
              "2             Optimize_hessian_desr_performance (#1705)   \n",
              "3                              Add @PartMap annotation.   \n",
              "4                workaround broken system dns behaviour   \n",
              "...                                                 ...   \n",
              "1644  Change CopyOnWriteArrayList to regular list in...   \n",
              "1645                                  code rule (#3651)   \n",
              "1646      replace Random with ThreadLocalRandom (#2433)   \n",
              "1647  Update production-ready-features.adoc <enter> ...   \n",
              "1648  [Dubbo-4871] fix cache file name issue in wind...   \n",
              "\n",
              "                                           new_message1   authorEmail  \\\n",
              "0     remove some magic value ( <pr_link> )  <enter>...  developer128   \n",
              "1                  Update concurrency.md ( <pr_link> )   developer129   \n",
              "2      Optimize_hessian_desr_performance ( <pr_link> )   developer130   \n",
              "3                               Add <iden> annotation.   developer131   \n",
              "4     workaround broken system  <file_name>  behaviour   developer132   \n",
              "...                                                 ...           ...   \n",
              "1644  Change <iden> to regular list in  <file_name> ...  developer335   \n",
              "1645                           code rule ( <pr_link> )   developer336   \n",
              "1646          replace <iden> with <iden> ( <pr_link> )   developer337   \n",
              "1647  Update  <file_name> <enter> Replace line break...  developer338   \n",
              "1648  [Dubbo-4871] fix cache file name issue in wind...  developer339   \n",
              "\n",
              "                commitDate  Unnamed: 9  \n",
              "0     2019-08-06T07:23:45Z         NaN  \n",
              "1     2020-09-30T16:01:02Z         NaN  \n",
              "2     2018-04-26T10:51:02Z         NaN  \n",
              "3     2014-05-01T17:16:02Z         NaN  \n",
              "4     2017-11-17T11:02:26Z         NaN  \n",
              "...                    ...         ...  \n",
              "1644  2019-05-15T03:05:48Z         NaN  \n",
              "1645  2019-04-12T03:37:03Z         NaN  \n",
              "1646  2018-09-05T03:31:52Z         NaN  \n",
              "1647  2016-12-08T11:15:43Z         NaN  \n",
              "1648  2019-10-11T13:30:51Z         NaN  \n",
              "\n",
              "[1649 rows x 10 columns]"
            ],
            "text/html": [
              "\n",
              "  <div id=\"df-fad59157-bed0-48e5-b10d-80cfdffa066f\">\n",
              "    <div class=\"colab-df-container\">\n",
              "      <div>\n",
              "<style scoped>\n",
              "    .dataframe tbody tr th:only-of-type {\n",
              "        vertical-align: middle;\n",
              "    }\n",
              "\n",
              "    .dataframe tbody tr th {\n",
              "        vertical-align: top;\n",
              "    }\n",
              "\n",
              "    .dataframe thead th {\n",
              "        text-align: right;\n",
              "    }\n",
              "</style>\n",
              "<table border=\"1\" class=\"dataframe\">\n",
              "  <thead>\n",
              "    <tr style=\"text-align: right;\">\n",
              "      <th></th>\n",
              "      <th>id</th>\n",
              "      <th>repo_id</th>\n",
              "      <th>label</th>\n",
              "      <th>url</th>\n",
              "      <th>if_mulit_commit</th>\n",
              "      <th>message</th>\n",
              "      <th>new_message1</th>\n",
              "      <th>authorEmail</th>\n",
              "      <th>commitDate</th>\n",
              "      <th>Unnamed: 9</th>\n",
              "    </tr>\n",
              "  </thead>\n",
              "  <tbody>\n",
              "    <tr>\n",
              "      <th>0</th>\n",
              "      <td>3079</td>\n",
              "      <td>2</td>\n",
              "      <td>0</td>\n",
              "      <td>https://github.com/apache/dubbo/commit/1b2e6dc...</td>\n",
              "      <td>1</td>\n",
              "      <td>remove some magic value (#4752) &lt;enter&gt;  &lt;ente...</td>\n",
              "      <td>remove some magic value ( &lt;pr_link&gt; )  &lt;enter&gt;...</td>\n",
              "      <td>developer128</td>\n",
              "      <td>2019-08-06T07:23:45Z</td>\n",
              "      <td>NaN</td>\n",
              "    </tr>\n",
              "    <tr>\n",
              "      <th>1</th>\n",
              "      <td>5904</td>\n",
              "      <td>4</td>\n",
              "      <td>0</td>\n",
              "      <td>https://github.com/square/okhttp/commit/2fd0da...</td>\n",
              "      <td></td>\n",
              "      <td>Update concurrency.md (#6290)</td>\n",
              "      <td>Update concurrency.md ( &lt;pr_link&gt; )</td>\n",
              "      <td>developer129</td>\n",
              "      <td>2020-09-30T16:01:02Z</td>\n",
              "      <td>NaN</td>\n",
              "    </tr>\n",
              "    <tr>\n",
              "      <th>2</th>\n",
              "      <td>4224</td>\n",
              "      <td>2</td>\n",
              "      <td>0</td>\n",
              "      <td>https://github.com/apache/dubbo/commit/9e9e778...</td>\n",
              "      <td></td>\n",
              "      <td>Optimize_hessian_desr_performance (#1705)</td>\n",
              "      <td>Optimize_hessian_desr_performance ( &lt;pr_link&gt; )</td>\n",
              "      <td>developer130</td>\n",
              "      <td>2018-04-26T10:51:02Z</td>\n",
              "      <td>NaN</td>\n",
              "    </tr>\n",
              "    <tr>\n",
              "      <th>3</th>\n",
              "      <td>5382</td>\n",
              "      <td>3</td>\n",
              "      <td>0</td>\n",
              "      <td>https://github.com/square/retrofit/commit/0754...</td>\n",
              "      <td></td>\n",
              "      <td>Add @PartMap annotation.</td>\n",
              "      <td>Add &lt;iden&gt; annotation.</td>\n",
              "      <td>developer131</td>\n",
              "      <td>2014-05-01T17:16:02Z</td>\n",
              "      <td>NaN</td>\n",
              "    </tr>\n",
              "    <tr>\n",
              "      <th>4</th>\n",
              "      <td>6983</td>\n",
              "      <td>4</td>\n",
              "      <td>3</td>\n",
              "      <td>https://github.com/square/okhttp/commit/c310d2...</td>\n",
              "      <td></td>\n",
              "      <td>workaround broken system dns behaviour</td>\n",
              "      <td>workaround broken system  &lt;file_name&gt;  behaviour</td>\n",
              "      <td>developer132</td>\n",
              "      <td>2017-11-17T11:02:26Z</td>\n",
              "      <td>NaN</td>\n",
              "    </tr>\n",
              "    <tr>\n",
              "      <th>...</th>\n",
              "      <td>...</td>\n",
              "      <td>...</td>\n",
              "      <td>...</td>\n",
              "      <td>...</td>\n",
              "      <td>...</td>\n",
              "      <td>...</td>\n",
              "      <td>...</td>\n",
              "      <td>...</td>\n",
              "      <td>...</td>\n",
              "      <td>...</td>\n",
              "    </tr>\n",
              "    <tr>\n",
              "      <th>1644</th>\n",
              "      <td>3452</td>\n",
              "      <td>2</td>\n",
              "      <td>0</td>\n",
              "      <td>https://github.com/apache/dubbo/commit/789775b...</td>\n",
              "      <td></td>\n",
              "      <td>Change CopyOnWriteArrayList to regular list in...</td>\n",
              "      <td>Change &lt;iden&gt; to regular list in  &lt;file_name&gt; ...</td>\n",
              "      <td>developer335</td>\n",
              "      <td>2019-05-15T03:05:48Z</td>\n",
              "      <td>NaN</td>\n",
              "    </tr>\n",
              "    <tr>\n",
              "      <th>1645</th>\n",
              "      <td>3786</td>\n",
              "      <td>2</td>\n",
              "      <td>2</td>\n",
              "      <td>https://github.com/apache/dubbo/commit/84d355f...</td>\n",
              "      <td></td>\n",
              "      <td>code rule (#3651)</td>\n",
              "      <td>code rule ( &lt;pr_link&gt; )</td>\n",
              "      <td>developer336</td>\n",
              "      <td>2019-04-12T03:37:03Z</td>\n",
              "      <td>NaN</td>\n",
              "    </tr>\n",
              "    <tr>\n",
              "      <th>1646</th>\n",
              "      <td>3497</td>\n",
              "      <td>2</td>\n",
              "      <td>0</td>\n",
              "      <td>https://github.com/apache/dubbo/commit/3bdc316...</td>\n",
              "      <td></td>\n",
              "      <td>replace Random with ThreadLocalRandom (#2433)</td>\n",
              "      <td>replace &lt;iden&gt; with &lt;iden&gt; ( &lt;pr_link&gt; )</td>\n",
              "      <td>developer337</td>\n",
              "      <td>2018-09-05T03:31:52Z</td>\n",
              "      <td>NaN</td>\n",
              "    </tr>\n",
              "    <tr>\n",
              "      <th>1647</th>\n",
              "      <td>13889</td>\n",
              "      <td>5</td>\n",
              "      <td>0</td>\n",
              "      <td>https://github.com/spring-projects/spring-boot...</td>\n",
              "      <td></td>\n",
              "      <td>Update production-ready-features.adoc &lt;enter&gt; ...</td>\n",
              "      <td>Update  &lt;file_name&gt; &lt;enter&gt; Replace line break...</td>\n",
              "      <td>developer338</td>\n",
              "      <td>2016-12-08T11:15:43Z</td>\n",
              "      <td>NaN</td>\n",
              "    </tr>\n",
              "    <tr>\n",
              "      <th>1648</th>\n",
              "      <td>2960</td>\n",
              "      <td>2</td>\n",
              "      <td>2</td>\n",
              "      <td>https://github.com/apache/dubbo/commit/055f1cc...</td>\n",
              "      <td></td>\n",
              "      <td>[Dubbo-4871] fix cache file name issue in wind...</td>\n",
              "      <td>[Dubbo-4871] fix cache file name issue in wind...</td>\n",
              "      <td>developer339</td>\n",
              "      <td>2019-10-11T13:30:51Z</td>\n",
              "      <td>NaN</td>\n",
              "    </tr>\n",
              "  </tbody>\n",
              "</table>\n",
              "<p>1649 rows × 10 columns</p>\n",
              "</div>\n",
              "      <button class=\"colab-df-convert\" onclick=\"convertToInteractive('df-fad59157-bed0-48e5-b10d-80cfdffa066f')\"\n",
              "              title=\"Convert this dataframe to an interactive table.\"\n",
              "              style=\"display:none;\">\n",
              "        \n",
              "  <svg xmlns=\"http://www.w3.org/2000/svg\" height=\"24px\"viewBox=\"0 0 24 24\"\n",
              "       width=\"24px\">\n",
              "    <path d=\"M0 0h24v24H0V0z\" fill=\"none\"/>\n",
              "    <path d=\"M18.56 5.44l.94 2.06.94-2.06 2.06-.94-2.06-.94-.94-2.06-.94 2.06-2.06.94zm-11 1L8.5 8.5l.94-2.06 2.06-.94-2.06-.94L8.5 2.5l-.94 2.06-2.06.94zm10 10l.94 2.06.94-2.06 2.06-.94-2.06-.94-.94-2.06-.94 2.06-2.06.94z\"/><path d=\"M17.41 7.96l-1.37-1.37c-.4-.4-.92-.59-1.43-.59-.52 0-1.04.2-1.43.59L10.3 9.45l-7.72 7.72c-.78.78-.78 2.05 0 2.83L4 21.41c.39.39.9.59 1.41.59.51 0 1.02-.2 1.41-.59l7.78-7.78 2.81-2.81c.8-.78.8-2.07 0-2.86zM5.41 20L4 18.59l7.72-7.72 1.47 1.35L5.41 20z\"/>\n",
              "  </svg>\n",
              "      </button>\n",
              "      \n",
              "  <style>\n",
              "    .colab-df-container {\n",
              "      display:flex;\n",
              "      flex-wrap:wrap;\n",
              "      gap: 12px;\n",
              "    }\n",
              "\n",
              "    .colab-df-convert {\n",
              "      background-color: #E8F0FE;\n",
              "      border: none;\n",
              "      border-radius: 50%;\n",
              "      cursor: pointer;\n",
              "      display: none;\n",
              "      fill: #1967D2;\n",
              "      height: 32px;\n",
              "      padding: 0 0 0 0;\n",
              "      width: 32px;\n",
              "    }\n",
              "\n",
              "    .colab-df-convert:hover {\n",
              "      background-color: #E2EBFA;\n",
              "      box-shadow: 0px 1px 2px rgba(60, 64, 67, 0.3), 0px 1px 3px 1px rgba(60, 64, 67, 0.15);\n",
              "      fill: #174EA6;\n",
              "    }\n",
              "\n",
              "    [theme=dark] .colab-df-convert {\n",
              "      background-color: #3B4455;\n",
              "      fill: #D2E3FC;\n",
              "    }\n",
              "\n",
              "    [theme=dark] .colab-df-convert:hover {\n",
              "      background-color: #434B5C;\n",
              "      box-shadow: 0px 1px 3px 1px rgba(0, 0, 0, 0.15);\n",
              "      filter: drop-shadow(0px 1px 2px rgba(0, 0, 0, 0.3));\n",
              "      fill: #FFFFFF;\n",
              "    }\n",
              "  </style>\n",
              "\n",
              "      <script>\n",
              "        const buttonEl =\n",
              "          document.querySelector('#df-fad59157-bed0-48e5-b10d-80cfdffa066f button.colab-df-convert');\n",
              "        buttonEl.style.display =\n",
              "          google.colab.kernel.accessAllowed ? 'block' : 'none';\n",
              "\n",
              "        async function convertToInteractive(key) {\n",
              "          const element = document.querySelector('#df-fad59157-bed0-48e5-b10d-80cfdffa066f');\n",
              "          const dataTable =\n",
              "            await google.colab.kernel.invokeFunction('convertToInteractive',\n",
              "                                                     [key], {});\n",
              "          if (!dataTable) return;\n",
              "\n",
              "          const docLinkHtml = 'Like what you see? Visit the ' +\n",
              "            '<a target=\"_blank\" href=https://colab.research.google.com/notebooks/data_table.ipynb>data table notebook</a>'\n",
              "            + ' to learn more about interactive tables.';\n",
              "          element.innerHTML = '';\n",
              "          dataTable['output_type'] = 'display_data';\n",
              "          await google.colab.output.renderOutput(dataTable, element);\n",
              "          const docLink = document.createElement('div');\n",
              "          docLink.innerHTML = docLinkHtml;\n",
              "          element.appendChild(docLink);\n",
              "        }\n",
              "      </script>\n",
              "    </div>\n",
              "  </div>\n",
              "  "
            ]
          },
          "metadata": {},
          "execution_count": 5
        }
      ]
    },
    {
      "cell_type": "code",
      "source": [
        "l = data['label'].to_numpy()\n",
        "plt.hist(l)\n",
        "\n",
        "print(f'% of \"good\" messages in dataset: {(l == 0).sum() / len(l)}')"
      ],
      "metadata": {
        "colab": {
          "base_uri": "https://localhost:8080/",
          "height": 284
        },
        "id": "2Uc4KQIjwXT1",
        "outputId": "eae0757f-1bf3-4f94-afed-05ca91dd44e5"
      },
      "execution_count": 6,
      "outputs": [
        {
          "output_type": "stream",
          "name": "stdout",
          "text": [
            "% of \"good\" messages in dataset: 0.5876288659793815\n"
          ]
        },
        {
          "output_type": "display_data",
          "data": {
            "text/plain": [
              "<Figure size 432x288 with 1 Axes>"
            ],
            "image/png": "[encoded data removed]"
          },
          "metadata": {
            "needs_background": "light"
          }
        }
      ]
    },
    {
      "cell_type": "code",
      "source": [
        "samples_num = len(data)"
      ],
      "metadata": {
        "id": "vEGoJ4kCxdpF"
      },
      "execution_count": 7,
      "outputs": []
    },
    {
      "cell_type": "code",
      "source": [
        "!wget https://raw.githubusercontent.com/Tbabm/nngen/master/data/cleaned.test.msg"
      ],
      "metadata": {
        "colab": {
          "base_uri": "https://localhost:8080/"
        },
        "id": "ynJXu5_G2LIx",
        "outputId": "013fa8b5-5b0f-4b8c-aa68-a38bcba4335a"
      },
      "execution_count": 8,
      "outputs": [
        {
          "output_type": "stream",
          "name": "stdout",
          "text": [
            "--2022-10-28 20:42:28--  https://raw.githubusercontent.com/Tbabm/nngen/master/data/cleaned.test.msg\n",
            "Resolving raw.githubusercontent.com (raw.githubusercontent.com)... 185.199.108.133, 185.199.109.133, 185.199.110.133, ...\n",
            "Connecting to raw.githubusercontent.com (raw.githubusercontent.com)|185.199.108.133|:443... connected.\n",
            "HTTP request sent, awaiting response... 200 OK\n",
            "Length: 100151 (98K) [text/plain]\n",
            "Saving to: ‘cleaned.test.msg.16’\n",
            "\n",
            "cleaned.test.msg.16 100%[===================>]  97.80K  --.-KB/s    in 0.002s  \n",
            "\n",
            "2022-10-28 20:42:28 (60.9 MB/s) - ‘cleaned.test.msg.16’ saved [100151/100151]\n",
            "\n"
          ]
        }
      ]
    },
    {
      "cell_type": "code",
      "source": [
        "test_data = []\n",
        "with open('cleaned.test.msg', 'r', encoding = 'utf-8') as f:\n",
        "    test_data = f.readlines()"
      ],
      "metadata": {
        "id": "cc4L9fuHgmXm"
      },
      "execution_count": 9,
      "outputs": []
    },
    {
      "cell_type": "code",
      "source": [
        "def process_sample(s):\n",
        "    s = s.strip()\n",
        "    s = re.sub(r'(\\s)*\\.(\\s)*', '.', s)\n",
        "    s = re.sub(r\"(\\s)*'(\\s)*\", \"'\", s)\n",
        "    s = re.sub(r'#(\\s)*', '#', s)\n",
        "    s = re.sub(r'@(\\s)*', '@', s)\n",
        "    s = re.sub(r'(\\s)*\\((\\s)*', '(', s)\n",
        "    s = re.sub(r'(\\s)*\\)', ')', s)\n",
        "    return s "
      ],
      "metadata": {
        "id": "WABTLL-JgmcM"
      },
      "execution_count": 10,
      "outputs": []
    },
    {
      "cell_type": "code",
      "source": [
        "test_data = [process_sample(x) for x in test_data]\n",
        "# print(len(test_data))\n",
        "\n",
        "test_df = pd.DataFrame()\n",
        "test_df['message'] = test_data\n",
        "test_df['label'] = [0 for i in range(len(test_data))]\n",
        "test_df['id'] = [i for i in range(len(test_data))]\n",
        "test_dataset_path = 'test_data.csv'\n",
        "test_df.to_csv(test_dataset_path) "
      ],
      "metadata": {
        "id": "tMdUeEUbn2Tz"
      },
      "execution_count": 11,
      "outputs": []
    },
    {
      "cell_type": "code",
      "source": [
        "class CommitsDataset(Dataset):\n",
        "    def __init__(self, dataset_path, encoder, mask):\n",
        "        data = pd.read_csv(dataset_path, encoding='UTF-8', encoding_errors='ignore')\n",
        "        # data['new_label'] = [0 if x == 0 else 1 for x in data['label'].tolist()]\n",
        "        self.labels = np.array(data['label'])[mask]\n",
        "        # processed_messages = data['new_message1'].to_numpy()[mask]\n",
        "        processed_messages = data['message'].to_numpy()[mask]\n",
        "        self.encoded_messages = encoder.encode(processed_messages)\n",
        "        self.ids =  np.array(data['id'])[mask]\n",
        "\n",
        "    def __len__(self):\n",
        "        return len(self.labels)\n",
        "\n",
        "    def __getitem__(self, idx):\n",
        "        encoded_message = self.encoded_messages[idx]\n",
        "        id = self.ids[idx]\n",
        "        label = self.labels[idx]\n",
        "        return encoded_message, id, label"
      ],
      "metadata": {
        "id": "0Urua9oAkBgE"
      },
      "execution_count": 12,
      "outputs": []
    },
    {
      "cell_type": "code",
      "source": [
        "class CommitsBertDataset(Dataset):\n",
        "    def __init__(self, dataset_path, tokenizer, mask):\n",
        "        data = pd.read_csv(dataset_path, encoding='UTF-8', encoding_errors='ignore')\n",
        "        self.labels = np.array(data['label'])[mask]\n",
        "        processed_messages = list(compress(data['message'].tolist(), mask))\n",
        "        self.encoded_messages = tokenizer(\n",
        "            processed_messages,\n",
        "            padding=True,\n",
        "            truncation=True,\n",
        "            max_length=200,\n",
        "            return_tensors='pt'\n",
        "        )['input_ids']\n",
        "        self.ids =  np.array(data['id'])[mask]\n",
        "\n",
        "    def __len__(self):\n",
        "        return len(self.labels)\n",
        "\n",
        "    def __getitem__(self, idx):\n",
        "        encoded_message = self.encoded_messages[idx]\n",
        "        id = self.ids[idx]\n",
        "        label = self.labels[idx]\n",
        "        return encoded_message, id, label"
      ],
      "metadata": {
        "id": "Pg_0SwbaCHli"
      },
      "execution_count": 13,
      "outputs": []
    },
    {
      "cell_type": "code",
      "source": [
        "def mean_pooling(model_output, attention_mask):\n",
        "    token_embeddings = model_output[0] #First element of model_output contains all token embeddings\n",
        "    input_mask_expanded = attention_mask.unsqueeze(-1).expand(token_embeddings.size()).float()\n",
        "    return torch.sum(token_embeddings * input_mask_expanded, 1) / torch.clamp(input_mask_expanded.sum(1), min=1e-9)"
      ],
      "metadata": {
        "id": "NWuOPvyT_jRA"
      },
      "execution_count": 14,
      "outputs": []
    },
    {
      "cell_type": "code",
      "source": [
        "class CommitsSTDataset(Dataset):\n",
        "    def __init__(self, dataset_path, mask):\n",
        "        data = pd.read_csv(dataset_path, encoding='UTF-8', encoding_errors='ignore')\n",
        "        self.labels = np.array(data['label'])[mask]\n",
        "        self.processed_messages = list(compress(data['message'].tolist(), mask))\n",
        "        self.ids =  np.array(data['id'])[mask]\n",
        "\n",
        "    def __len__(self):\n",
        "        return len(self.labels)\n",
        "\n",
        "    def __getitem__(self, idx):\n",
        "        processed_messages = self.processed_messages[idx]\n",
        "        id = self.ids[idx]\n",
        "        label = self.labels[idx]\n",
        "        return processed_messages, id, label"
      ],
      "metadata": {
        "id": "jdKBi21gDxaC"
      },
      "execution_count": 15,
      "outputs": []
    },
    {
      "cell_type": "code",
      "source": [
        "mask = np.zeros(samples_num)\n",
        "mask[:int(0.8 * samples_num)] = 1\n",
        "np.random.shuffle(mask)"
      ],
      "metadata": {
        "id": "B--4NLULRkh0"
      },
      "execution_count": 16,
      "outputs": []
    },
    {
      "cell_type": "markdown",
      "source": [
        "## BiLSTM with frozen Sentence Transformer\n",
        "\n",
        "Using Sentence Transformer as encoder and passing the output to BiLSTM without gradient propagation. It is a fast approach. Using 2 classes instead of 4 does not boost performance. "
      ],
      "metadata": {
        "id": "6F--A1qlCdVI"
      }
    },
    {
      "cell_type": "code",
      "source": [
        "class BiLSTM(nn.Module):\n",
        "    def __init__(self, embed_size):\n",
        "        super(BiLSTM, self).__init__()\n",
        "        self.hidden_size = 128\n",
        "        dropout = 0.5\n",
        "        self.lstm = nn.LSTM(embed_size, self.hidden_size, bidirectional=True, batch_first=True)\n",
        "        self.linear = nn.Linear(self.hidden_size * 2, 128)\n",
        "        self.relu = nn.ReLU()\n",
        "        self.dropout = nn.Dropout(dropout)\n",
        "        self.out = nn.Linear(128, 4)\n",
        "\n",
        "\n",
        "    def forward(self, x):\n",
        "        #print(x.shape)\n",
        "        h_embedding = torch.squeeze(torch.unsqueeze(x, 0))\n",
        "        #print(h_embedding.shape)\n",
        "        h_lstm, _ = self.lstm(x)\n",
        "        #print(h_lstm.shape)\n",
        "        # avg_pool = torch.mean(h_lstm, 1)\n",
        "        # max_pool, _ = torch.max(h_lstm, 1)\n",
        "        # print(avg_pool.shape, max_pool.shape)\n",
        "        conc = h_lstm# torch.cat((avg_pool, max_pool), 1)\n",
        "        conc = self.relu(self.linear(conc))\n",
        "        conc = self.dropout(conc)\n",
        "        out = self.out(conc)\n",
        "        return out\n"
      ],
      "metadata": {
        "id": "6_kx1419lSai"
      },
      "execution_count": 27,
      "outputs": []
    },
    {
      "cell_type": "code",
      "source": [
        "def train(model, train_loader, valid_loader, config):\n",
        "    criterion = nn.CrossEntropyLoss()\n",
        "    optimizer = torch.optim.Adam(model.parameters(), lr=config['lr'])\n",
        "\n",
        "    for e in range(config['epochs']):\n",
        "        model.train()\n",
        "        train_loss = 0.\n",
        "        train_acc = 0.\n",
        "        for encs, ids, labels in train_loader:\n",
        "            optimizer.zero_grad()\n",
        "            output = model(encs.to(device))\n",
        "            loss = criterion(output.squeeze(), labels.long().to(device))\n",
        "            train_loss += loss.item()\n",
        "            train_acc += (\n",
        "                torch.argmax(output.squeeze(), dim=1) == labels.to(device)\n",
        "            ).sum()\n",
        "            loss.backward()\n",
        "            optimizer.step()\n",
        "        train_loss /= len(train_loader.dataset)\n",
        "        train_acc /= len(train_loader.dataset)\n",
        "        if valid_loader is None:\n",
        "            print(f'epoch: {e} | train loss: {train_loss} | train accuracy: {train_acc}')\n",
        "            continue\n",
        "        model.eval()\n",
        "        valid_loss = 0.\n",
        "        valid_acc = 0.\n",
        "        with torch.no_grad():\n",
        "            for encs, ids, labels in valid_loader:\n",
        "                output = model(encs.to(device))\n",
        "                loss = criterion(output.squeeze(), labels.long().to(device))\n",
        "                valid_loss += loss.item()\n",
        "                valid_acc += (\n",
        "                    torch.argmax(output.squeeze(), dim=1) == labels.to(device)\n",
        "                ).sum()\n",
        "            valid_loss /= len(valid_loader.dataset)\n",
        "            valid_acc /= len(valid_loader.dataset)\n",
        "        print(f'epoch: {e} | train loss: {train_loss} | train accuracy: {train_acc} | valid loss: {valid_loss} | valid accuracy: {valid_acc}')"
      ],
      "metadata": {
        "id": "XFpoQAjKTBy4"
      },
      "execution_count": 28,
      "outputs": []
    },
    {
      "cell_type": "code",
      "source": [
        "def test(model, test_loader):\n",
        "    outputs = []\n",
        "    model.eval()\n",
        "    with torch.no_grad():\n",
        "        for encs, ids, labels in test_loader:\n",
        "            output = model(encs.to(device))\n",
        "            outputs += torch.argmax(output.squeeze(), dim=1).tolist()\n",
        "    return outputs"
      ],
      "metadata": {
        "id": "2M_Hx7kimxaa"
      },
      "execution_count": 29,
      "outputs": []
    },
    {
      "cell_type": "code",
      "source": [
        "encoder = SentenceTransformer('all-mpnet-base-v2')"
      ],
      "metadata": {
        "id": "oPXGp8eSWtY0"
      },
      "execution_count": 31,
      "outputs": []
    },
    {
      "cell_type": "code",
      "source": [
        "train_dataset = CommitsDataset(dataset_path, encoder, mask.astype(bool))\n",
        "valid_dataset = CommitsDataset(dataset_path, encoder, (1 - mask).astype(bool))"
      ],
      "metadata": {
        "id": "iJaFM8OFlSTV"
      },
      "execution_count": 32,
      "outputs": []
    },
    {
      "cell_type": "code",
      "source": [
        "train_loader = DataLoader(train_dataset, batch_size=64, shuffle=True)\n",
        "valid_loader = DataLoader(valid_dataset, batch_size=64, shuffle=False)"
      ],
      "metadata": {
        "id": "czKrGyiIpnxU"
      },
      "execution_count": 33,
      "outputs": []
    },
    {
      "cell_type": "code",
      "source": [
        "model = BiLSTM(768).to(device)"
      ],
      "metadata": {
        "id": "bc8kiJyms2hk"
      },
      "execution_count": 34,
      "outputs": []
    },
    {
      "cell_type": "code",
      "source": [
        "config = {\n",
        "    'lr': 7e-4,\n",
        "    'epochs': 20,\n",
        "    'batch_size': 64\n",
        "}"
      ],
      "metadata": {
        "id": "qOLZB8Katdwx"
      },
      "execution_count": 35,
      "outputs": []
    },
    {
      "cell_type": "code",
      "source": [
        "train(model, train_loader, valid_loader, config)"
      ],
      "metadata": {
        "id": "_NGNztsaTB1N",
        "colab": {
          "base_uri": "https://localhost:8080/"
        },
        "outputId": "fd134e43-adb7-43c1-b283-78227f8f7915"
      },
      "execution_count": 36,
      "outputs": [
        {
          "output_type": "stream",
          "name": "stdout",
          "text": [
            "epoch: 0 | train loss: 0.019918564461324142 | train accuracy: 0.469294935464859 | valid loss: 0.019929806210777976 | valid accuracy: 0.5636363625526428\n",
            "epoch: 1 | train loss: 0.01682346200653782 | train accuracy: 0.5936315655708313 | valid loss: 0.018875442671053337 | valid accuracy: 0.5636363625526428\n",
            "epoch: 2 | train loss: 0.01627365900224768 | train accuracy: 0.5936315655708313 | valid loss: 0.018608589967091877 | valid accuracy: 0.5636363625526428\n",
            "epoch: 3 | train loss: 0.016246950066026365 | train accuracy: 0.5936315655708313 | valid loss: 0.018341450980215362 | valid accuracy: 0.5636363625526428\n",
            "epoch: 4 | train loss: 0.01578324631003379 | train accuracy: 0.5936315655708313 | valid loss: 0.01786701661167723 | valid accuracy: 0.5636363625526428\n",
            "epoch: 5 | train loss: 0.014976000541805588 | train accuracy: 0.5943896770477295 | valid loss: 0.017376103726300326 | valid accuracy: 0.5636363625526428\n",
            "epoch: 6 | train loss: 0.01432502522804775 | train accuracy: 0.6072782278060913 | valid loss: 0.016656679095643938 | valid accuracy: 0.5999999642372131\n",
            "epoch: 7 | train loss: 0.01346228324255318 | train accuracy: 0.6641395092010498 | valid loss: 0.016252923914880462 | valid accuracy: 0.6272727251052856\n",
            "epoch: 8 | train loss: 0.013110000902816506 | train accuracy: 0.6808187961578369 | valid loss: 0.01607436898982886 | valid accuracy: 0.6333333253860474\n",
            "epoch: 9 | train loss: 0.012403184035404602 | train accuracy: 0.698256254196167 | valid loss: 0.014590621175188006 | valid accuracy: 0.6757575273513794\n",
            "epoch: 10 | train loss: 0.011830141455771076 | train accuracy: 0.7187263369560242 | valid loss: 0.01453183889389038 | valid accuracy: 0.6818181872367859\n",
            "epoch: 11 | train loss: 0.011338567806067477 | train accuracy: 0.7263078093528748 | valid loss: 0.014352458173578437 | valid accuracy: 0.6787878274917603\n",
            "epoch: 12 | train loss: 0.010944284481745583 | train accuracy: 0.7490523457527161 | valid loss: 0.01418348334052346 | valid accuracy: 0.6757575273513794\n",
            "epoch: 13 | train loss: 0.010851924441093924 | train accuracy: 0.7384382486343384 | valid loss: 0.013938306859045319 | valid accuracy: 0.6696969270706177\n",
            "epoch: 14 | train loss: 0.01023999292620933 | train accuracy: 0.7589082717895508 | valid loss: 0.014060357483950528 | valid accuracy: 0.6818181872367859\n",
            "epoch: 15 | train loss: 0.009890270874841905 | train accuracy: 0.7626990079879761 | valid loss: 0.013971674261671124 | valid accuracy: 0.6696969270706177\n",
            "epoch: 16 | train loss: 0.009720671936090107 | train accuracy: 0.778620183467865 | valid loss: 0.014311863978703817 | valid accuracy: 0.6878787875175476\n",
            "epoch: 17 | train loss: 0.009655656260554767 | train accuracy: 0.7771039009094238 | valid loss: 0.014090449159795588 | valid accuracy: 0.6787878274917603\n",
            "epoch: 18 | train loss: 0.009087791399489396 | train accuracy: 0.7854435443878174 | valid loss: 0.014136901588150948 | valid accuracy: 0.6848484873771667\n",
            "epoch: 19 | train loss: 0.00892303268325609 | train accuracy: 0.793025016784668 | valid loss: 0.014964058904936819 | valid accuracy: 0.6848484873771667\n"
          ]
        }
      ]
    },
    {
      "cell_type": "code",
      "source": [
        "full_dataset = CommitsDataset(dataset_path, encoder, (np.ones(samples_num)).astype(bool))\n",
        "full_train_loader = DataLoader(full_dataset, batch_size=64, shuffle=True)\n",
        "test_dataset = CommitsDataset(test_dataset_path, encoder, (np.ones(len(test_data))).astype(bool))\n",
        "test_loader = DataLoader(test_dataset, batch_size=64, shuffle=False)"
      ],
      "metadata": {
        "id": "0YIF_Y6W1xqF"
      },
      "execution_count": 37,
      "outputs": []
    },
    {
      "cell_type": "code",
      "source": [
        "model = BiLSTM(768).to(device)\n",
        "train(model, full_train_loader, None, config)"
      ],
      "metadata": {
        "id": "vyZqmu0_1GuV",
        "colab": {
          "base_uri": "https://localhost:8080/"
        },
        "outputId": "b27f39c2-53ac-4b9c-c6cb-400de19b1e00"
      },
      "execution_count": 38,
      "outputs": [
        {
          "output_type": "stream",
          "name": "stdout",
          "text": [
            "epoch: 0 | train loss: 0.018956096986339193 | train accuracy: 0.5530624389648438\n",
            "epoch: 1 | train loss: 0.016441591477090477 | train accuracy: 0.5870224237442017\n",
            "epoch: 2 | train loss: 0.015982205901021593 | train accuracy: 0.5882353186607361\n",
            "epoch: 3 | train loss: 0.01532189953753701 | train accuracy: 0.5876288414001465\n",
            "epoch: 4 | train loss: 0.014473267654132092 | train accuracy: 0.6294723749160767\n",
            "epoch: 5 | train loss: 0.013480249645494562 | train accuracy: 0.6513038277626038\n",
            "epoch: 6 | train loss: 0.012906478346297783 | train accuracy: 0.6737416386604309\n",
            "epoch: 7 | train loss: 0.012234541341852173 | train accuracy: 0.6973923444747925\n",
            "epoch: 8 | train loss: 0.011576235294342041 | train accuracy: 0.7155851721763611\n",
            "epoch: 9 | train loss: 0.011268172880748752 | train accuracy: 0.7198302149772644\n",
            "epoch: 10 | train loss: 0.010598863595322887 | train accuracy: 0.7368102073669434\n",
            "epoch: 11 | train loss: 0.010385171491641431 | train accuracy: 0.7416616082191467\n",
            "epoch: 12 | train loss: 0.010175823225549961 | train accuracy: 0.7507580518722534\n",
            "epoch: 13 | train loss: 0.009748933602998732 | train accuracy: 0.7556094527244568\n",
            "epoch: 14 | train loss: 0.009592211701929244 | train accuracy: 0.7568222880363464\n",
            "epoch: 15 | train loss: 0.009389304406285793 | train accuracy: 0.7725894451141357\n",
            "epoch: 16 | train loss: 0.00899566723549995 | train accuracy: 0.788356602191925\n",
            "epoch: 17 | train loss: 0.008821449726548898 | train accuracy: 0.7756215929985046\n",
            "epoch: 18 | train loss: 0.008611729627236804 | train accuracy: 0.7913886904716492\n",
            "epoch: 19 | train loss: 0.00847329778552706 | train accuracy: 0.7895694375038147\n"
          ]
        }
      ]
    },
    {
      "cell_type": "code",
      "source": [
        "pred_labels = test(model, test_loader)\n",
        "\n",
        "res = pd.DataFrame()\n",
        "res['message'] = test_df['message']\n",
        "res['predicted_label'] = pred_labels\n",
        "res.to_csv('predictions1.csv')"
      ],
      "metadata": {
        "id": "QT9ozPVu1Gxn"
      },
      "execution_count": 39,
      "outputs": []
    },
    {
      "cell_type": "code",
      "source": [
        "res.head(5)"
      ],
      "metadata": {
        "id": "vAKvHMi13Bhs",
        "colab": {
          "base_uri": "https://localhost:8080/",
          "height": 206
        },
        "outputId": "449939e9-d99d-4667-f561-7902fd7e0546"
      },
      "execution_count": 40,
      "outputs": [
        {
          "output_type": "execute_result",
          "data": {
            "text/plain": [
              "                                             message  predicted_label\n",
              "0                               Fix snapshot version                0\n",
              "1                                    update chagelog                3\n",
              "2                          edit coverage colors icon                0\n",
              "3  LRQA - 14419 Add new property to turn on runni...                3\n",
              "4                                  Added joscar JAR.                0"
            ],
            "text/html": [
              "\n",
              "  <div id=\"df-69d3bf1c-b800-4a8a-a296-aaabed9a06f0\">\n",
              "    <div class=\"colab-df-container\">\n",
              "      <div>\n",
              "<style scoped>\n",
              "    .dataframe tbody tr th:only-of-type {\n",
              "        vertical-align: middle;\n",
              "    }\n",
              "\n",
              "    .dataframe tbody tr th {\n",
              "        vertical-align: top;\n",
              "    }\n",
              "\n",
              "    .dataframe thead th {\n",
              "        text-align: right;\n",
              "    }\n",
              "</style>\n",
              "<table border=\"1\" class=\"dataframe\">\n",
              "  <thead>\n",
              "    <tr style=\"text-align: right;\">\n",
              "      <th></th>\n",
              "      <th>message</th>\n",
              "      <th>predicted_label</th>\n",
              "    </tr>\n",
              "  </thead>\n",
              "  <tbody>\n",
              "    <tr>\n",
              "      <th>0</th>\n",
              "      <td>Fix snapshot version</td>\n",
              "      <td>0</td>\n",
              "    </tr>\n",
              "    <tr>\n",
              "      <th>1</th>\n",
              "      <td>update chagelog</td>\n",
              "      <td>3</td>\n",
              "    </tr>\n",
              "    <tr>\n",
              "      <th>2</th>\n",
              "      <td>edit coverage colors icon</td>\n",
              "      <td>0</td>\n",
              "    </tr>\n",
              "    <tr>\n",
              "      <th>3</th>\n",
              "      <td>LRQA - 14419 Add new property to turn on runni...</td>\n",
              "      <td>3</td>\n",
              "    </tr>\n",
              "    <tr>\n",
              "      <th>4</th>\n",
              "      <td>Added joscar JAR.</td>\n",
              "      <td>0</td>\n",
              "    </tr>\n",
              "  </tbody>\n",
              "</table>\n",
              "</div>\n",
              "      <button class=\"colab-df-convert\" onclick=\"convertToInteractive('df-69d3bf1c-b800-4a8a-a296-aaabed9a06f0')\"\n",
              "              title=\"Convert this dataframe to an interactive table.\"\n",
              "              style=\"display:none;\">\n",
              "        \n",
              "  <svg xmlns=\"http://www.w3.org/2000/svg\" height=\"24px\"viewBox=\"0 0 24 24\"\n",
              "       width=\"24px\">\n",
              "    <path d=\"M0 0h24v24H0V0z\" fill=\"none\"/>\n",
              "    <path d=\"M18.56 5.44l.94 2.06.94-2.06 2.06-.94-2.06-.94-.94-2.06-.94 2.06-2.06.94zm-11 1L8.5 8.5l.94-2.06 2.06-.94-2.06-.94L8.5 2.5l-.94 2.06-2.06.94zm10 10l.94 2.06.94-2.06 2.06-.94-2.06-.94-.94-2.06-.94 2.06-2.06.94z\"/><path d=\"M17.41 7.96l-1.37-1.37c-.4-.4-.92-.59-1.43-.59-.52 0-1.04.2-1.43.59L10.3 9.45l-7.72 7.72c-.78.78-.78 2.05 0 2.83L4 21.41c.39.39.9.59 1.41.59.51 0 1.02-.2 1.41-.59l7.78-7.78 2.81-2.81c.8-.78.8-2.07 0-2.86zM5.41 20L4 18.59l7.72-7.72 1.47 1.35L5.41 20z\"/>\n",
              "  </svg>\n",
              "      </button>\n",
              "      \n",
              "  <style>\n",
              "    .colab-df-container {\n",
              "      display:flex;\n",
              "      flex-wrap:wrap;\n",
              "      gap: 12px;\n",
              "    }\n",
              "\n",
              "    .colab-df-convert {\n",
              "      background-color: #E8F0FE;\n",
              "      border: none;\n",
              "      border-radius: 50%;\n",
              "      cursor: pointer;\n",
              "      display: none;\n",
              "      fill: #1967D2;\n",
              "      height: 32px;\n",
              "      padding: 0 0 0 0;\n",
              "      width: 32px;\n",
              "    }\n",
              "\n",
              "    .colab-df-convert:hover {\n",
              "      background-color: #E2EBFA;\n",
              "      box-shadow: 0px 1px 2px rgba(60, 64, 67, 0.3), 0px 1px 3px 1px rgba(60, 64, 67, 0.15);\n",
              "      fill: #174EA6;\n",
              "    }\n",
              "\n",
              "    [theme=dark] .colab-df-convert {\n",
              "      background-color: #3B4455;\n",
              "      fill: #D2E3FC;\n",
              "    }\n",
              "\n",
              "    [theme=dark] .colab-df-convert:hover {\n",
              "      background-color: #434B5C;\n",
              "      box-shadow: 0px 1px 3px 1px rgba(0, 0, 0, 0.15);\n",
              "      filter: drop-shadow(0px 1px 2px rgba(0, 0, 0, 0.3));\n",
              "      fill: #FFFFFF;\n",
              "    }\n",
              "  </style>\n",
              "\n",
              "      <script>\n",
              "        const buttonEl =\n",
              "          document.querySelector('#df-69d3bf1c-b800-4a8a-a296-aaabed9a06f0 button.colab-df-convert');\n",
              "        buttonEl.style.display =\n",
              "          google.colab.kernel.accessAllowed ? 'block' : 'none';\n",
              "\n",
              "        async function convertToInteractive(key) {\n",
              "          const element = document.querySelector('#df-69d3bf1c-b800-4a8a-a296-aaabed9a06f0');\n",
              "          const dataTable =\n",
              "            await google.colab.kernel.invokeFunction('convertToInteractive',\n",
              "                                                     [key], {});\n",
              "          if (!dataTable) return;\n",
              "\n",
              "          const docLinkHtml = 'Like what you see? Visit the ' +\n",
              "            '<a target=\"_blank\" href=https://colab.research.google.com/notebooks/data_table.ipynb>data table notebook</a>'\n",
              "            + ' to learn more about interactive tables.';\n",
              "          element.innerHTML = '';\n",
              "          dataTable['output_type'] = 'display_data';\n",
              "          await google.colab.output.renderOutput(dataTable, element);\n",
              "          const docLink = document.createElement('div');\n",
              "          docLink.innerHTML = docLinkHtml;\n",
              "          element.appendChild(docLink);\n",
              "        }\n",
              "      </script>\n",
              "    </div>\n",
              "  </div>\n",
              "  "
            ]
          },
          "metadata": {},
          "execution_count": 40
        }
      ]
    },
    {
      "cell_type": "markdown",
      "source": [
        "##BiLSTM with BERT finetuning\n",
        "\n",
        "Using BERT as encoder and passing the output to BiLSTM with gradient propagation. This is original approach from paper. It works better, then the previous one, but is much slower. \n"
      ],
      "metadata": {
        "id": "NQvxdigOCny5"
      }
    },
    {
      "cell_type": "code",
      "source": [
        "class BERT_BiLSTM(nn.Module):\n",
        "    def __init__(self):\n",
        "        super(BERT_BiLSTM, self).__init__()\n",
        "        self.output_size = 4\n",
        "        self.n_layers = 2\n",
        "        self.hidden_dim = 384\n",
        "        self.bert = BertModel.from_pretrained('bert-base-uncased')\n",
        "        for param in self.bert.parameters():\n",
        "            param.requires_grad = True\n",
        "        self.lstm = nn.LSTM(768, self.hidden_dim, 2, batch_first=True, bidirectional=True)\n",
        "        self.dropout = nn.Dropout(0.5)\n",
        "        self.fc = nn.Linear(self.hidden_dim * self.n_layers, self.output_size)\n",
        "\n",
        "    def forward(self, x, hidden):\n",
        "        batch_size = x.size(0)\n",
        "        x = self.bert(x)[0]\n",
        "        lstm_out, (hidden_last, cn_last) = self.lstm(x, hidden)\n",
        "        hidden_last_L = hidden_last[-2]\n",
        "        hidden_last_R = hidden_last[-1]\n",
        "        hidden_last_out = torch.cat([hidden_last_L, hidden_last_R], dim=-1)\n",
        "        out = self.dropout(hidden_last_out)\n",
        "        out = self.fc(out)\n",
        "        return out\n",
        "\n",
        "    def init_hidden(self, batch_size):\n",
        "        weight = next(self.parameters()).data\n",
        "        number = 2\n",
        "        hidden = (\n",
        "            weight.new(self.n_layers * number, batch_size, self.hidden_dim).zero_().float().to(device),\n",
        "            weight.new(self.n_layers * number, batch_size, self.hidden_dim).zero_().float().to(device)\n",
        "        )\n",
        "        return hidden"
      ],
      "metadata": {
        "id": "puaTemERA7j-"
      },
      "execution_count": 17,
      "outputs": []
    },
    {
      "cell_type": "code",
      "source": [
        "def train_bert(model, train_loader, valid_loader, config):\n",
        "    criterion = nn.CrossEntropyLoss()\n",
        "    optimizer = torch.optim.Adam(model.parameters(), lr=config['lr'])\n",
        "\n",
        "    for e in range(config['epochs']):\n",
        "        model.train()\n",
        "        train_loss = 0.\n",
        "        train_acc = 0.\n",
        "        for encs, ids, labels in train_loader:\n",
        "            labels = labels.long().to(device)\n",
        "            encs = encs.to(device)\n",
        "            h = model.init_hidden(len(labels))\n",
        "            h = tuple([each.data for each in h])\n",
        "            optimizer.zero_grad()\n",
        "            output = model(encs, h)\n",
        "            loss = criterion(output.squeeze(), labels)\n",
        "            train_loss += loss.item()\n",
        "            train_acc += (\n",
        "                torch.argmax(output.squeeze(), dim=1) == labels\n",
        "            ).sum()\n",
        "            loss.backward()\n",
        "            optimizer.step()\n",
        "            del h\n",
        "            del encs\n",
        "            del labels\n",
        "            del output\n",
        "\n",
        "        train_loss /= len(train_loader.dataset)\n",
        "        train_acc /= len(train_loader.dataset)\n",
        "\n",
        "        if valid_loader is None:\n",
        "            print(f'epoch: {e} | train loss: {train_loss} | train accuracy: {train_acc}')\n",
        "            continue\n",
        "        model.eval()\n",
        "        valid_loss = 0.\n",
        "        valid_acc = 0.\n",
        "        with torch.no_grad():\n",
        "            for encs, ids, labels in valid_loader:\n",
        "                labels = labels.long().to(device)\n",
        "                encs = encs.to(device)\n",
        "                h = model.init_hidden(len(labels))\n",
        "                h = tuple([each.data for each in h])\n",
        "                output = model(encs, h)\n",
        "                loss = criterion(output.squeeze(), labels)\n",
        "                valid_loss += loss.item()\n",
        "                valid_acc += (\n",
        "                    torch.argmax(output.squeeze(), dim=1) == labels\n",
        "                ).sum()\n",
        "                del h\n",
        "                del encs\n",
        "                del labels\n",
        "                del output\n",
        "            valid_loss /= len(valid_loader.dataset)\n",
        "            valid_acc /= len(valid_loader.dataset)\n",
        "\n",
        "        print(f'epoch: {e} | train loss: {train_loss} | train accuracy: {train_acc} | valid loss: {valid_loss} | valid accuracy: {valid_acc}')\n",
        "\n",
        "\n",
        "def test_bert(model, test_loader):\n",
        "    outputs = []\n",
        "    model.eval()\n",
        "    \n",
        "    with torch.no_grad():\n",
        "        for encs, ids, labels in test_loader:\n",
        "            h = model.init_hidden(len(labels))\n",
        "            h = tuple([each.data for each in h])\n",
        "            output = model(encs.to(device), h)\n",
        "            outputs += torch.argmax(output.squeeze(), dim=1).tolist()\n",
        "    return outputs        "
      ],
      "metadata": {
        "id": "xeP3nbfiHYjb"
      },
      "execution_count": 18,
      "outputs": []
    },
    {
      "cell_type": "code",
      "source": [
        "config = {\n",
        "    'lr': 3e-5,\n",
        "    'epochs': 20,\n",
        "    'batch_size': 64\n",
        "}"
      ],
      "metadata": {
        "id": "_k4Jupwo69_q"
      },
      "execution_count": 19,
      "outputs": []
    },
    {
      "cell_type": "code",
      "source": [
        "tokenizer = BertTokenizer.from_pretrained('bert-base-uncased')"
      ],
      "metadata": {
        "id": "Jr_GGM1SMhnJ"
      },
      "execution_count": 20,
      "outputs": []
    },
    {
      "cell_type": "code",
      "source": [
        "train_dataset_bert = CommitsBertDataset(dataset_path, tokenizer, mask.astype(bool))\n",
        "valid_dataset_bert = CommitsBertDataset(dataset_path, tokenizer, (1 - mask).astype(bool))\n",
        "train_loader_bert = DataLoader(train_dataset_bert, batch_size=64, shuffle=True)\n",
        "valid_loader_bert = DataLoader(valid_dataset_bert, batch_size=64, shuffle=False)"
      ],
      "metadata": {
        "id": "Tf53vk1ZCRmB"
      },
      "execution_count": 21,
      "outputs": []
    },
    {
      "cell_type": "code",
      "source": [
        "bert_model = BERT_BiLSTM().to(device)"
      ],
      "metadata": {
        "colab": {
          "base_uri": "https://localhost:8080/"
        },
        "id": "6FqdWNlFCRp9",
        "outputId": "e004b895-3e75-4bab-8aca-bcb8141dfead"
      },
      "execution_count": 22,
      "outputs": [
        {
          "output_type": "stream",
          "name": "stderr",
          "text": [
            "Some weights of the model checkpoint at bert-base-uncased were not used when initializing BertModel: ['cls.seq_relationship.weight', 'cls.predictions.transform.LayerNorm.bias', 'cls.predictions.bias', 'cls.predictions.transform.dense.bias', 'cls.seq_relationship.bias', 'cls.predictions.transform.LayerNorm.weight', 'cls.predictions.decoder.weight', 'cls.predictions.transform.dense.weight']\n",
            "- This IS expected if you are initializing BertModel from the checkpoint of a model trained on another task or with another architecture (e.g. initializing a BertForSequenceClassification model from a BertForPreTraining model).\n",
            "- This IS NOT expected if you are initializing BertModel from the checkpoint of a model that you expect to be exactly identical (initializing a BertForSequenceClassification model from a BertForSequenceClassification model).\n"
          ]
        }
      ]
    },
    {
      "cell_type": "code",
      "source": [
        "train_bert(bert_model, train_loader_bert, valid_loader_bert, config)"
      ],
      "metadata": {
        "colab": {
          "base_uri": "https://localhost:8080/"
        },
        "id": "HZQfXpt8CRuB",
        "outputId": "549a941e-94b3-43ad-cb6b-19c7a6a0ed49"
      },
      "execution_count": 23,
      "outputs": [
        {
          "output_type": "stream",
          "name": "stdout",
          "text": [
            "epoch: 0 | train loss: 0.01798881397182242 | train accuracy: 0.5686125755310059 | valid loss: 0.017907411040681782 | valid accuracy: 0.5909090638160706\n",
            "epoch: 1 | train loss: 0.01510823843965393 | train accuracy: 0.5989385843276978 | valid loss: 0.015949981140367914 | valid accuracy: 0.6363636255264282\n",
            "epoch: 2 | train loss: 0.01419206258471578 | train accuracy: 0.6641395092010498 | valid loss: 0.015580966436501704 | valid accuracy: 0.6454545259475708\n",
            "epoch: 3 | train loss: 0.013048418594906961 | train accuracy: 0.6974981427192688 | valid loss: 0.015521897691668887 | valid accuracy: 0.6575757265090942\n",
            "epoch: 4 | train loss: 0.01144402193426634 | train accuracy: 0.7255496978759766 | valid loss: 0.014255308201818756 | valid accuracy: 0.6969696879386902\n",
            "epoch: 5 | train loss: 0.009868200639597478 | train accuracy: 0.7589082717895508 | valid loss: 0.01340754104383064 | valid accuracy: 0.7060605883598328\n",
            "epoch: 6 | train loss: 0.007739302558913386 | train accuracy: 0.8369977474212646 | valid loss: 0.013618663675857312 | valid accuracy: 0.7060605883598328\n",
            "epoch: 7 | train loss: 0.005529947754015428 | train accuracy: 0.8870356678962708 | valid loss: 0.014886751319422867 | valid accuracy: 0.7424241900444031\n",
            "epoch: 8 | train loss: 0.004427944319188549 | train accuracy: 0.9082638621330261 | valid loss: 0.014072075395873098 | valid accuracy: 0.7636363506317139\n",
            "epoch: 9 | train loss: 0.003261278475930602 | train accuracy: 0.9393479824066162 | valid loss: 0.0154303536270604 | valid accuracy: 0.7787878513336182\n",
            "epoch: 10 | train loss: 0.001952104996310842 | train accuracy: 0.9704321622848511 | valid loss: 0.0179751354636568 | valid accuracy: 0.7636363506317139\n",
            "epoch: 11 | train loss: 0.0014213778875016912 | train accuracy: 0.9742228984832764 | valid loss: 0.018665962327610364 | valid accuracy: 0.7666666507720947\n",
            "epoch: 12 | train loss: 0.001651406087619595 | train accuracy: 0.9666414260864258 | valid loss: 0.018796153502030805 | valid accuracy: 0.7424241900444031\n",
            "epoch: 13 | train loss: 0.0014257422176001196 | train accuracy: 0.9689158797264099 | valid loss: 0.01821006102995439 | valid accuracy: 0.7696969509124756\n",
            "epoch: 14 | train loss: 0.0010946771218932154 | train accuracy: 0.9772555232048035 | valid loss: 0.019808470660989935 | valid accuracy: 0.7666666507720947\n",
            "epoch: 15 | train loss: 0.0012541438627301788 | train accuracy: 0.9742228984832764 | valid loss: 0.017766779480558454 | valid accuracy: 0.7939393520355225\n",
            "epoch: 16 | train loss: 0.000663248547073948 | train accuracy: 0.9909022450447083 | valid loss: 0.01990187294555433 | valid accuracy: 0.7696969509124756\n",
            "epoch: 17 | train loss: 0.0007238728859214009 | train accuracy: 0.98635333776474 | valid loss: 0.022170192364490394 | valid accuracy: 0.7727272510528564\n",
            "epoch: 18 | train loss: 0.0008984483334350938 | train accuracy: 0.9818044304847717 | valid loss: 0.022022454485748754 | valid accuracy: 0.7454545497894287\n",
            "epoch: 19 | train loss: 0.0006903488954375241 | train accuracy: 0.9871114492416382 | valid loss: 0.021601059942534476 | valid accuracy: 0.7515151500701904\n"
          ]
        }
      ]
    },
    {
      "cell_type": "code",
      "source": [
        "full_dataset = CommitsBertDataset(dataset_path, tokenizer, (np.ones(samples_num)).astype(bool))\n",
        "full_train_loader = DataLoader(full_dataset, batch_size=64, shuffle=True)\n",
        "test_dataset = CommitsBertDataset(test_dataset_path, tokenizer, (np.ones(len(test_data))).astype(bool))\n",
        "test_loader = DataLoader(test_dataset, batch_size=64, shuffle=False)"
      ],
      "metadata": {
        "id": "9BFCh6wd2LF1"
      },
      "execution_count": 20,
      "outputs": []
    },
    {
      "cell_type": "code",
      "source": [
        "bert_model = BERT_BiLSTM().to(device)\n",
        "train_bert(bert_model, full_train_loader, None, config)"
      ],
      "metadata": {
        "id": "EBTh9Wh-kgoF",
        "colab": {
          "base_uri": "https://localhost:8080/"
        },
        "outputId": "09c3d3e3-658b-468e-c921-c101f422b64e"
      },
      "execution_count": 21,
      "outputs": [
        {
          "output_type": "stream",
          "name": "stderr",
          "text": [
            "Some weights of the model checkpoint at bert-base-uncased were not used when initializing BertModel: ['cls.seq_relationship.bias', 'cls.predictions.transform.dense.bias', 'cls.predictions.transform.dense.weight', 'cls.predictions.decoder.weight', 'cls.seq_relationship.weight', 'cls.predictions.bias', 'cls.predictions.transform.LayerNorm.weight', 'cls.predictions.transform.LayerNorm.bias']\n",
            "- This IS expected if you are initializing BertModel from the checkpoint of a model trained on another task or with another architecture (e.g. initializing a BertForSequenceClassification model from a BertForPreTraining model).\n",
            "- This IS NOT expected if you are initializing BertModel from the checkpoint of a model that you expect to be exactly identical (initializing a BertForSequenceClassification model from a BertForSequenceClassification model).\n"
          ]
        },
        {
          "output_type": "stream",
          "name": "stdout",
          "text": [
            "epoch: 0 | train loss: 0.016900340595557662 | train accuracy: 0.5694360136985779\n",
            "epoch: 1 | train loss: 0.014165746037926799 | train accuracy: 0.6488780975341797\n",
            "epoch: 2 | train loss: 0.01345195807855443 | train accuracy: 0.6604002118110657\n",
            "epoch: 3 | train loss: 0.012375553099584262 | train accuracy: 0.6846573352813721\n",
            "epoch: 4 | train loss: 0.010449343337804494 | train accuracy: 0.743480920791626\n",
            "epoch: 5 | train loss: 0.009497820788835163 | train accuracy: 0.7731958627700806\n",
            "epoch: 6 | train loss: 0.006980460536993222 | train accuracy: 0.8483929634094238\n",
            "epoch: 7 | train loss: 0.0054973232124414205 | train accuracy: 0.8884172439575195\n",
            "epoch: 8 | train loss: 0.0037517854893041277 | train accuracy: 0.9296543002128601\n",
            "epoch: 9 | train loss: 0.0025020235908833903 | train accuracy: 0.9551243185997009\n",
            "epoch: 10 | train loss: 0.0018700689728004126 | train accuracy: 0.969072163105011\n",
            "epoch: 11 | train loss: 0.0012547488467233552 | train accuracy: 0.9763492941856384\n",
            "epoch: 12 | train loss: 0.0013381076175798569 | train accuracy: 0.9739235639572144\n",
            "epoch: 13 | train loss: 0.00131135162817774 | train accuracy: 0.9733171463012695\n",
            "epoch: 14 | train loss: 0.0007505663108643147 | train accuracy: 0.9860521554946899\n",
            "epoch: 15 | train loss: 0.0003641796334470996 | train accuracy: 0.9957550168037415\n",
            "epoch: 16 | train loss: 0.00024393481287705385 | train accuracy: 0.9975742697715759\n",
            "epoch: 17 | train loss: 0.0006696632842992456 | train accuracy: 0.9896907210350037\n",
            "epoch: 18 | train loss: 0.000271426991030366 | train accuracy: 0.9951485395431519\n",
            "epoch: 19 | train loss: 0.00019159365946335493 | train accuracy: 0.9963614344596863\n"
          ]
        }
      ]
    },
    {
      "cell_type": "code",
      "source": [
        "pred_labels = test_bert(bert_model, test_loader)\n",
        "\n",
        "res = pd.DataFrame()\n",
        "res['message'] = test_df['message']\n",
        "res['predicted_label'] = pred_labels\n",
        "res.to_csv('predictions2.csv') "
      ],
      "metadata": {
        "id": "ItWmI4oT2Rpc"
      },
      "execution_count": 24,
      "outputs": []
    },
    {
      "cell_type": "code",
      "source": [
        "res.head(5)"
      ],
      "metadata": {
        "id": "72ek9Ajy2_k2",
        "colab": {
          "base_uri": "https://localhost:8080/",
          "height": 206
        },
        "outputId": "a3a568c6-21bd-44f6-eb92-99e4b6ccbcb4"
      },
      "execution_count": 25,
      "outputs": [
        {
          "output_type": "execute_result",
          "data": {
            "text/plain": [
              "                                             message  predicted_label\n",
              "0                               Fix snapshot version                0\n",
              "1                                    update chagelog                0\n",
              "2                          edit coverage colors icon                3\n",
              "3  LRQA - 14419 Add new property to turn on runni...                0\n",
              "4                                  Added joscar JAR.                3"
            ],
            "text/html": [
              "\n",
              "  <div id=\"df-f03e1416-d00e-434b-95f0-7c28876d5c00\">\n",
              "    <div class=\"colab-df-container\">\n",
              "      <div>\n",
              "<style scoped>\n",
              "    .dataframe tbody tr th:only-of-type {\n",
              "        vertical-align: middle;\n",
              "    }\n",
              "\n",
              "    .dataframe tbody tr th {\n",
              "        vertical-align: top;\n",
              "    }\n",
              "\n",
              "    .dataframe thead th {\n",
              "        text-align: right;\n",
              "    }\n",
              "</style>\n",
              "<table border=\"1\" class=\"dataframe\">\n",
              "  <thead>\n",
              "    <tr style=\"text-align: right;\">\n",
              "      <th></th>\n",
              "      <th>message</th>\n",
              "      <th>predicted_label</th>\n",
              "    </tr>\n",
              "  </thead>\n",
              "  <tbody>\n",
              "    <tr>\n",
              "      <th>0</th>\n",
              "      <td>Fix snapshot version</td>\n",
              "      <td>0</td>\n",
              "    </tr>\n",
              "    <tr>\n",
              "      <th>1</th>\n",
              "      <td>update chagelog</td>\n",
              "      <td>0</td>\n",
              "    </tr>\n",
              "    <tr>\n",
              "      <th>2</th>\n",
              "      <td>edit coverage colors icon</td>\n",
              "      <td>3</td>\n",
              "    </tr>\n",
              "    <tr>\n",
              "      <th>3</th>\n",
              "      <td>LRQA - 14419 Add new property to turn on runni...</td>\n",
              "      <td>0</td>\n",
              "    </tr>\n",
              "    <tr>\n",
              "      <th>4</th>\n",
              "      <td>Added joscar JAR.</td>\n",
              "      <td>3</td>\n",
              "    </tr>\n",
              "  </tbody>\n",
              "</table>\n",
              "</div>\n",
              "      <button class=\"colab-df-convert\" onclick=\"convertToInteractive('df-f03e1416-d00e-434b-95f0-7c28876d5c00')\"\n",
              "              title=\"Convert this dataframe to an interactive table.\"\n",
              "              style=\"display:none;\">\n",
              "        \n",
              "  <svg xmlns=\"http://www.w3.org/2000/svg\" height=\"24px\"viewBox=\"0 0 24 24\"\n",
              "       width=\"24px\">\n",
              "    <path d=\"M0 0h24v24H0V0z\" fill=\"none\"/>\n",
              "    <path d=\"M18.56 5.44l.94 2.06.94-2.06 2.06-.94-2.06-.94-.94-2.06-.94 2.06-2.06.94zm-11 1L8.5 8.5l.94-2.06 2.06-.94-2.06-.94L8.5 2.5l-.94 2.06-2.06.94zm10 10l.94 2.06.94-2.06 2.06-.94-2.06-.94-.94-2.06-.94 2.06-2.06.94z\"/><path d=\"M17.41 7.96l-1.37-1.37c-.4-.4-.92-.59-1.43-.59-.52 0-1.04.2-1.43.59L10.3 9.45l-7.72 7.72c-.78.78-.78 2.05 0 2.83L4 21.41c.39.39.9.59 1.41.59.51 0 1.02-.2 1.41-.59l7.78-7.78 2.81-2.81c.8-.78.8-2.07 0-2.86zM5.41 20L4 18.59l7.72-7.72 1.47 1.35L5.41 20z\"/>\n",
              "  </svg>\n",
              "      </button>\n",
              "      \n",
              "  <style>\n",
              "    .colab-df-container {\n",
              "      display:flex;\n",
              "      flex-wrap:wrap;\n",
              "      gap: 12px;\n",
              "    }\n",
              "\n",
              "    .colab-df-convert {\n",
              "      background-color: #E8F0FE;\n",
              "      border: none;\n",
              "      border-radius: 50%;\n",
              "      cursor: pointer;\n",
              "      display: none;\n",
              "      fill: #1967D2;\n",
              "      height: 32px;\n",
              "      padding: 0 0 0 0;\n",
              "      width: 32px;\n",
              "    }\n",
              "\n",
              "    .colab-df-convert:hover {\n",
              "      background-color: #E2EBFA;\n",
              "      box-shadow: 0px 1px 2px rgba(60, 64, 67, 0.3), 0px 1px 3px 1px rgba(60, 64, 67, 0.15);\n",
              "      fill: #174EA6;\n",
              "    }\n",
              "\n",
              "    [theme=dark] .colab-df-convert {\n",
              "      background-color: #3B4455;\n",
              "      fill: #D2E3FC;\n",
              "    }\n",
              "\n",
              "    [theme=dark] .colab-df-convert:hover {\n",
              "      background-color: #434B5C;\n",
              "      box-shadow: 0px 1px 3px 1px rgba(0, 0, 0, 0.15);\n",
              "      filter: drop-shadow(0px 1px 2px rgba(0, 0, 0, 0.3));\n",
              "      fill: #FFFFFF;\n",
              "    }\n",
              "  </style>\n",
              "\n",
              "      <script>\n",
              "        const buttonEl =\n",
              "          document.querySelector('#df-f03e1416-d00e-434b-95f0-7c28876d5c00 button.colab-df-convert');\n",
              "        buttonEl.style.display =\n",
              "          google.colab.kernel.accessAllowed ? 'block' : 'none';\n",
              "\n",
              "        async function convertToInteractive(key) {\n",
              "          const element = document.querySelector('#df-f03e1416-d00e-434b-95f0-7c28876d5c00');\n",
              "          const dataTable =\n",
              "            await google.colab.kernel.invokeFunction('convertToInteractive',\n",
              "                                                     [key], {});\n",
              "          if (!dataTable) return;\n",
              "\n",
              "          const docLinkHtml = 'Like what you see? Visit the ' +\n",
              "            '<a target=\"_blank\" href=https://colab.research.google.com/notebooks/data_table.ipynb>data table notebook</a>'\n",
              "            + ' to learn more about interactive tables.';\n",
              "          element.innerHTML = '';\n",
              "          dataTable['output_type'] = 'display_data';\n",
              "          await google.colab.output.renderOutput(dataTable, element);\n",
              "          const docLink = document.createElement('div');\n",
              "          docLink.innerHTML = docLinkHtml;\n",
              "          element.appendChild(docLink);\n",
              "        }\n",
              "      </script>\n",
              "    </div>\n",
              "  </div>\n",
              "  "
            ]
          },
          "metadata": {},
          "execution_count": 25
        }
      ]
    },
    {
      "cell_type": "code",
      "source": [],
      "metadata": {
        "id": "yEy44OatFWj2"
      },
      "execution_count": null,
      "outputs": []
    },
    {
      "cell_type": "markdown",
      "source": [
        "##Finetuning Sentence Transformer\n",
        "\n",
        "Finetuning Sentence Transformer model. Works faster than BERT + LSTM but performance is slightly worse."
      ],
      "metadata": {
        "id": "m0KFZEBiC27r"
      }
    },
    {
      "cell_type": "code",
      "source": [
        "config = {\n",
        "    'lr': 1e-4,\n",
        "    'epochs': 15,\n",
        "    'batch_size': 16\n",
        "}"
      ],
      "metadata": {
        "id": "XECjm4T3NpWb"
      },
      "execution_count": 27,
      "outputs": []
    },
    {
      "cell_type": "code",
      "source": [
        "class ST_Finetune(nn.Module):\n",
        "    def __init__(self):\n",
        "        super(ST_Finetune, self).__init__()\n",
        "        self.output_size = 4\n",
        "        self.n_layers = 2\n",
        "        self.hidden_dim = 384\n",
        "        self.st = AutoModel.from_pretrained('sentence-transformers/all-MiniLM-L6-v2')\n",
        "\n",
        "        for param in self.st.parameters():\n",
        "            param.requires_grad = True\n",
        "        self.fc1 = nn.Linear(384, self.hidden_dim)\n",
        "        self.dropout = nn.Dropout(0.5)\n",
        "        self.fc2 = nn.Linear(self.hidden_dim, self.output_size)\n",
        "\n",
        "    def forward(self, x):\n",
        "        for e in x:\n",
        "          batch_size = len(x[e])  \n",
        "          break\n",
        "        model_output = self.st(**x)\n",
        "        sentence_embeddings = mean_pooling(model_output, x['attention_mask'])\n",
        "        sentence_embeddings = F.normalize(sentence_embeddings, p=2, dim=1)\n",
        "        out = self.fc1(sentence_embeddings)\n",
        "        out = F.relu(out)\n",
        "        out = self.dropout(out)\n",
        "        out = self.fc2(out)\n",
        "        return out"
      ],
      "metadata": {
        "id": "RZzFV9uFJohl"
      },
      "execution_count": 44,
      "outputs": []
    },
    {
      "cell_type": "code",
      "source": [
        "def train_st(model, train_loader, valid_loader, config):\n",
        "    criterion = nn.CrossEntropyLoss()\n",
        "    optimizer = torch.optim.Adam(model.parameters(), lr=config['lr'])\n",
        "    tokenizer = AutoTokenizer.from_pretrained('sentence-transformers/all-MiniLM-L6-v2')\n",
        "\n",
        "    for e in range(config['epochs']):\n",
        "        model.train()\n",
        "        train_loss = 0.\n",
        "        train_acc = 0.\n",
        "        for msgs, ids, labels in train_loader:\n",
        "            encs = tokenizer(\n",
        "                list(msgs), \n",
        "                padding=True, \n",
        "                truncation=True, \n",
        "                return_tensors='pt'\n",
        "            )\n",
        "            if len(labels) == 1:\n",
        "              continue\n",
        "            optimizer.zero_grad()\n",
        "            output = model(encs.to(device))\n",
        "            loss = criterion(output.squeeze(), labels.long().to(device))\n",
        "            train_loss += loss.item()\n",
        "            train_acc += (\n",
        "                torch.argmax(output.squeeze(), dim=1) == labels.to(device)\n",
        "            ).sum()\n",
        "            loss.backward()\n",
        "            optimizer.step()\n",
        "        train_loss /= len(train_loader.dataset)\n",
        "        train_acc /= len(train_loader.dataset)\n",
        "\n",
        "        if valid_loader is None:\n",
        "            print(f'epoch: {e} | train loss: {train_loss} | train accuracy: {train_acc}')\n",
        "            continue\n",
        "        model.eval()\n",
        "        valid_loss = 0.\n",
        "        valid_acc = 0.\n",
        "        with torch.no_grad():\n",
        "            for msgs, ids, labels in valid_loader:\n",
        "                encs = tokenizer(\n",
        "                    list(msgs), \n",
        "                    padding=True, \n",
        "                    truncation=True, \n",
        "                    return_tensors='pt'\n",
        "                )\n",
        "                output = model(encs.to(device))\n",
        "                loss = criterion(output.squeeze(), labels.long().to(device))\n",
        "                valid_loss += loss.item()\n",
        "                valid_acc += (\n",
        "                    torch.argmax(output.squeeze(), dim=1) == labels.to(device)\n",
        "                ).sum()\n",
        "            valid_loss /= len(valid_loader.dataset)\n",
        "            valid_acc /= len(valid_loader.dataset)\n",
        "        print(f'epoch: {e} | train loss: {train_loss} | train accuracy: {train_acc} | valid loss: {valid_loss} | valid accuracy: {valid_acc}')\n",
        "\n",
        "\n",
        "def test_st(model, test_loader):\n",
        "    outputs = []\n",
        "    model.eval()\n",
        "    tokenizer = AutoTokenizer.from_pretrained('sentence-transformers/all-MiniLM-L6-v2')\n",
        "\n",
        "    with torch.no_grad():\n",
        "        for msgs, ids, labels in test_loader:\n",
        "            encs = tokenizer(\n",
        "                  list(msgs), \n",
        "                  padding=True, \n",
        "                  truncation=True, \n",
        "                  return_tensors='pt'\n",
        "              )\n",
        "            output = model(encs.to(device))\n",
        "            outputs += torch.argmax(output.squeeze(), dim=1).tolist()\n",
        "    return outputs        "
      ],
      "metadata": {
        "id": "rO06JZwYJoj9"
      },
      "execution_count": 50,
      "outputs": []
    },
    {
      "cell_type": "code",
      "source": [
        "train_dataset_st = CommitsSTDataset(dataset_path, mask.astype(bool))\n",
        "valid_dataset_st = CommitsSTDataset(dataset_path, (1 - mask).astype(bool))\n",
        "train_loader_st = DataLoader(train_dataset_st, batch_size=config[\"batch_size\"], shuffle=True)\n",
        "valid_loader_st = DataLoader(valid_dataset_st, batch_size=config[\"batch_size\"], shuffle=False)"
      ],
      "metadata": {
        "id": "LxeQi4ydJong"
      },
      "execution_count": 46,
      "outputs": []
    },
    {
      "cell_type": "code",
      "source": [
        "st_model = ST_Finetune().to(device)\n",
        "train_st(st_model, train_loader_st, valid_loader_st, config)"
      ],
      "metadata": {
        "id": "GhG4ehf5Kfj0",
        "colab": {
          "base_uri": "https://localhost:8080/"
        },
        "outputId": "1b435d3a-bd84-4e99-9d4a-a1d9f2548bba"
      },
      "execution_count": 47,
      "outputs": [
        {
          "output_type": "stream",
          "name": "stdout",
          "text": [
            "epoch: 0 | train loss: 0.07563065786629215 | train accuracy: 0.6148597598075867 | valid loss: 0.0681510638106953 | valid accuracy: 0.663636326789856\n",
            "epoch: 1 | train loss: 0.05886151747237199 | train accuracy: 0.7240333557128906 | valid loss: 0.05709372695648309 | valid accuracy: 0.6909090876579285\n",
            "epoch: 2 | train loss: 0.047363306194476054 | train accuracy: 0.7717968225479126 | valid loss: 0.0539953528028546 | valid accuracy: 0.6727272272109985\n",
            "epoch: 3 | train loss: 0.03661681778327907 | train accuracy: 0.840030312538147 | valid loss: 0.049816231565041974 | valid accuracy: 0.7121211886405945\n",
            "epoch: 4 | train loss: 0.02741168642739982 | train accuracy: 0.8870356678962708 | valid loss: 0.048275436190041626 | valid accuracy: 0.7242423892021179\n",
            "epoch: 5 | train loss: 0.021445960165132078 | train accuracy: 0.920394241809845 | valid loss: 0.049698204795519514 | valid accuracy: 0.7393938899040222\n",
            "epoch: 6 | train loss: 0.017976380401687066 | train accuracy: 0.9393479824066162 | valid loss: 0.05289942428018107 | valid accuracy: 0.7393938899040222\n",
            "epoch: 7 | train loss: 0.014374210416615416 | train accuracy: 0.9560273289680481 | valid loss: 0.05511018055858034 | valid accuracy: 0.7575757503509521\n",
            "epoch: 8 | train loss: 0.011121060911049167 | train accuracy: 0.9636088013648987 | valid loss: 0.05241172110492533 | valid accuracy: 0.7515151500701904\n",
            "epoch: 9 | train loss: 0.012052670595680248 | train accuracy: 0.9545109868049622 | valid loss: 0.05562121985536633 | valid accuracy: 0.7484848499298096\n",
            "epoch: 10 | train loss: 0.010518647221971227 | train accuracy: 0.9605762362480164 | valid loss: 0.058157130533998666 | valid accuracy: 0.7545454502105713\n",
            "epoch: 11 | train loss: 0.00692573970380021 | train accuracy: 0.9772555232048035 | valid loss: 0.0675297612324357 | valid accuracy: 0.7424241900444031\n",
            "epoch: 12 | train loss: 0.00745066588743109 | train accuracy: 0.9764973521232605 | valid loss: 0.06229140866886486 | valid accuracy: 0.7272726893424988\n",
            "epoch: 13 | train loss: 0.011138169429603176 | train accuracy: 0.9507202506065369 | valid loss: 0.06229509259715225 | valid accuracy: 0.7363635897636414\n",
            "epoch: 14 | train loss: 0.005632079082136582 | train accuracy: 0.9810462594032288 | valid loss: 0.06518245781912949 | valid accuracy: 0.7454545497894287\n"
          ]
        }
      ]
    },
    {
      "cell_type": "code",
      "source": [
        "full_dataset = CommitsSTDataset(dataset_path, (np.ones(samples_num)).astype(bool))\n",
        "full_train_loader = DataLoader(full_dataset, batch_size=config[\"batch_size\"], shuffle=True)\n",
        "test_dataset = CommitsSTDataset(test_dataset_path, (np.ones(len(test_data))).astype(bool))\n",
        "test_loader = DataLoader(test_dataset, batch_size=config[\"batch_size\"], shuffle=False)"
      ],
      "metadata": {
        "id": "RzYDvmW-HGV0"
      },
      "execution_count": 48,
      "outputs": []
    },
    {
      "cell_type": "code",
      "source": [
        "st_model = ST_Finetune().to(device)\n",
        "train_st(st_model, full_train_loader, None, config)"
      ],
      "metadata": {
        "colab": {
          "base_uri": "https://localhost:8080/"
        },
        "id": "Aq-pmLeZHGYD",
        "outputId": "b48b81fc-3c7c-489d-8272-4df574dff919"
      },
      "execution_count": 49,
      "outputs": [
        {
          "output_type": "stream",
          "name": "stdout",
          "text": [
            "epoch: 0 | train loss: 0.07277277717451532 | train accuracy: 0.6040024161338806\n",
            "epoch: 1 | train loss: 0.05319581923158043 | train accuracy: 0.7453001737594604\n",
            "epoch: 2 | train loss: 0.03815058108674461 | train accuracy: 0.8332322835922241\n",
            "epoch: 3 | train loss: 0.027837291061697474 | train accuracy: 0.8914493322372437\n",
            "epoch: 4 | train loss: 0.021739370673623786 | train accuracy: 0.9169193506240845\n",
            "epoch: 5 | train loss: 0.01689642360529949 | train accuracy: 0.9375379085540771\n",
            "epoch: 6 | train loss: 0.013519349228421292 | train accuracy: 0.9502728581428528\n",
            "epoch: 7 | train loss: 0.011012273145361767 | train accuracy: 0.9587628841400146\n",
            "epoch: 8 | train loss: 0.008644028073724578 | train accuracy: 0.9666464328765869\n",
            "epoch: 9 | train loss: 0.005551447489808877 | train accuracy: 0.9818071722984314\n",
            "epoch: 10 | train loss: 0.00633383674514319 | train accuracy: 0.9751364588737488\n",
            "epoch: 11 | train loss: 0.0066767112584078655 | train accuracy: 0.9702849984169006\n",
            "epoch: 12 | train loss: 0.0060040518520608896 | train accuracy: 0.9751364588737488\n",
            "epoch: 13 | train loss: 0.004243820171471145 | train accuracy: 0.9836264252662659\n",
            "epoch: 14 | train loss: 0.0030782931182689382 | train accuracy: 0.9896907210350037\n"
          ]
        }
      ]
    },
    {
      "cell_type": "code",
      "source": [
        "pred_labels = test_st(st_model, test_loader)\n",
        "\n",
        "res = pd.DataFrame()\n",
        "res['message'] = test_df['message']\n",
        "res['predicted_label'] = pred_labels\n",
        "res.to_csv('predictions3.csv') "
      ],
      "metadata": {
        "id": "05Se3jJyHJwK"
      },
      "execution_count": 52,
      "outputs": []
    },
    {
      "cell_type": "code",
      "source": [
        "res.head(5)"
      ],
      "metadata": {
        "colab": {
          "base_uri": "https://localhost:8080/",
          "height": 206
        },
        "id": "Uu-HHEnzHJze",
        "outputId": "c7489c1f-8134-4cf8-a1f5-2b28ba9d3597"
      },
      "execution_count": 53,
      "outputs": [
        {
          "output_type": "execute_result",
          "data": {
            "text/plain": [
              "                                             message  predicted_label\n",
              "0                               Fix snapshot version                0\n",
              "1                                    update chagelog                1\n",
              "2                          edit coverage colors icon                0\n",
              "3  LRQA - 14419 Add new property to turn on runni...                0\n",
              "4                                  Added joscar JAR.                1"
            ],
            "text/html": [
              "\n",
              "  <div id=\"df-9692e137-c241-4486-a227-27857255ac15\">\n",
              "    <div class=\"colab-df-container\">\n",
              "      <div>\n",
              "<style scoped>\n",
              "    .dataframe tbody tr th:only-of-type {\n",
              "        vertical-align: middle;\n",
              "    }\n",
              "\n",
              "    .dataframe tbody tr th {\n",
              "        vertical-align: top;\n",
              "    }\n",
              "\n",
              "    .dataframe thead th {\n",
              "        text-align: right;\n",
              "    }\n",
              "</style>\n",
              "<table border=\"1\" class=\"dataframe\">\n",
              "  <thead>\n",
              "    <tr style=\"text-align: right;\">\n",
              "      <th></th>\n",
              "      <th>message</th>\n",
              "      <th>predicted_label</th>\n",
              "    </tr>\n",
              "  </thead>\n",
              "  <tbody>\n",
              "    <tr>\n",
              "      <th>0</th>\n",
              "      <td>Fix snapshot version</td>\n",
              "      <td>0</td>\n",
              "    </tr>\n",
              "    <tr>\n",
              "      <th>1</th>\n",
              "      <td>update chagelog</td>\n",
              "      <td>1</td>\n",
              "    </tr>\n",
              "    <tr>\n",
              "      <th>2</th>\n",
              "      <td>edit coverage colors icon</td>\n",
              "      <td>0</td>\n",
              "    </tr>\n",
              "    <tr>\n",
              "      <th>3</th>\n",
              "      <td>LRQA - 14419 Add new property to turn on runni...</td>\n",
              "      <td>0</td>\n",
              "    </tr>\n",
              "    <tr>\n",
              "      <th>4</th>\n",
              "      <td>Added joscar JAR.</td>\n",
              "      <td>1</td>\n",
              "    </tr>\n",
              "  </tbody>\n",
              "</table>\n",
              "</div>\n",
              "      <button class=\"colab-df-convert\" onclick=\"convertToInteractive('df-9692e137-c241-4486-a227-27857255ac15')\"\n",
              "              title=\"Convert this dataframe to an interactive table.\"\n",
              "              style=\"display:none;\">\n",
              "        \n",
              "  <svg xmlns=\"http://www.w3.org/2000/svg\" height=\"24px\"viewBox=\"0 0 24 24\"\n",
              "       width=\"24px\">\n",
              "    <path d=\"M0 0h24v24H0V0z\" fill=\"none\"/>\n",
              "    <path d=\"M18.56 5.44l.94 2.06.94-2.06 2.06-.94-2.06-.94-.94-2.06-.94 2.06-2.06.94zm-11 1L8.5 8.5l.94-2.06 2.06-.94-2.06-.94L8.5 2.5l-.94 2.06-2.06.94zm10 10l.94 2.06.94-2.06 2.06-.94-2.06-.94-.94-2.06-.94 2.06-2.06.94z\"/><path d=\"M17.41 7.96l-1.37-1.37c-.4-.4-.92-.59-1.43-.59-.52 0-1.04.2-1.43.59L10.3 9.45l-7.72 7.72c-.78.78-.78 2.05 0 2.83L4 21.41c.39.39.9.59 1.41.59.51 0 1.02-.2 1.41-.59l7.78-7.78 2.81-2.81c.8-.78.8-2.07 0-2.86zM5.41 20L4 18.59l7.72-7.72 1.47 1.35L5.41 20z\"/>\n",
              "  </svg>\n",
              "      </button>\n",
              "      \n",
              "  <style>\n",
              "    .colab-df-container {\n",
              "      display:flex;\n",
              "      flex-wrap:wrap;\n",
              "      gap: 12px;\n",
              "    }\n",
              "\n",
              "    .colab-df-convert {\n",
              "      background-color: #E8F0FE;\n",
              "      border: none;\n",
              "      border-radius: 50%;\n",
              "      cursor: pointer;\n",
              "      display: none;\n",
              "      fill: #1967D2;\n",
              "      height: 32px;\n",
              "      padding: 0 0 0 0;\n",
              "      width: 32px;\n",
              "    }\n",
              "\n",
              "    .colab-df-convert:hover {\n",
              "      background-color: #E2EBFA;\n",
              "      box-shadow: 0px 1px 2px rgba(60, 64, 67, 0.3), 0px 1px 3px 1px rgba(60, 64, 67, 0.15);\n",
              "      fill: #174EA6;\n",
              "    }\n",
              "\n",
              "    [theme=dark] .colab-df-convert {\n",
              "      background-color: #3B4455;\n",
              "      fill: #D2E3FC;\n",
              "    }\n",
              "\n",
              "    [theme=dark] .colab-df-convert:hover {\n",
              "      background-color: #434B5C;\n",
              "      box-shadow: 0px 1px 3px 1px rgba(0, 0, 0, 0.15);\n",
              "      filter: drop-shadow(0px 1px 2px rgba(0, 0, 0, 0.3));\n",
              "      fill: #FFFFFF;\n",
              "    }\n",
              "  </style>\n",
              "\n",
              "      <script>\n",
              "        const buttonEl =\n",
              "          document.querySelector('#df-9692e137-c241-4486-a227-27857255ac15 button.colab-df-convert');\n",
              "        buttonEl.style.display =\n",
              "          google.colab.kernel.accessAllowed ? 'block' : 'none';\n",
              "\n",
              "        async function convertToInteractive(key) {\n",
              "          const element = document.querySelector('#df-9692e137-c241-4486-a227-27857255ac15');\n",
              "          const dataTable =\n",
              "            await google.colab.kernel.invokeFunction('convertToInteractive',\n",
              "                                                     [key], {});\n",
              "          if (!dataTable) return;\n",
              "\n",
              "          const docLinkHtml = 'Like what you see? Visit the ' +\n",
              "            '<a target=\"_blank\" href=https://colab.research.google.com/notebooks/data_table.ipynb>data table notebook</a>'\n",
              "            + ' to learn more about interactive tables.';\n",
              "          element.innerHTML = '';\n",
              "          dataTable['output_type'] = 'display_data';\n",
              "          await google.colab.output.renderOutput(dataTable, element);\n",
              "          const docLink = document.createElement('div');\n",
              "          docLink.innerHTML = docLinkHtml;\n",
              "          element.appendChild(docLink);\n",
              "        }\n",
              "      </script>\n",
              "    </div>\n",
              "  </div>\n",
              "  "
            ]
          },
          "metadata": {},
          "execution_count": 53
        }
      ]
    },
    {
      "cell_type": "markdown",
      "source": [
        "## Compare results"
      ],
      "metadata": {
        "id": "zMji1N6GWerf"
      }
    },
    {
      "cell_type": "code",
      "source": [
        "p1 = pd.read_csv(\"predictions1.csv\")\n",
        "p2 = pd.read_csv(\"predictions2.csv\")\n",
        "p3 = pd.read_csv(\"predictions3.csv\")\n",
        "\n",
        "p1[\"Freeze ST + BiLSTM\"] = p1[\"predicted_label\"]\n",
        "p1[\"BERT + BiLSTM\"] = p2[\"predicted_label\"]\n",
        "p1[\"ST finetune\"] = p3[\"predicted_label\"]\n",
        "del p1[\"predicted_label\"]\n",
        "p1.to_csv('predictions_all.csv')"
      ],
      "metadata": {
        "id": "zhrJtfxyHGbJ"
      },
      "execution_count": 5,
      "outputs": []
    },
    {
      "cell_type": "code",
      "source": [
        "p1.sample(30)"
      ],
      "metadata": {
        "colab": {
          "base_uri": "https://localhost:8080/",
          "height": 751
        },
        "id": "hP37oWk4W-bx",
        "outputId": "d777076c-f620-4b89-93bf-f64998807335"
      },
      "execution_count": 25,
      "outputs": [
        {
          "output_type": "execute_result",
          "data": {
            "text/plain": [
              "      Unnamed: 0                                            message  \\\n",
              "2235        2235                 Upgrade ActionBarSherlock to 4.2.0   \n",
              "2174        2174           Make an internal class package private \"   \n",
              "1060        1060                      added chromecast to changelog   \n",
              "981          981  Fixing broken dropdown asset in Honeycomb as well   \n",
              "916          916  Remove annoucement on BottomSheetDialog Backgr...   \n",
              "1611        1611     Make blueprints - test a test scope dependency   \n",
              "1546        1546            give access to the defining classloader   \n",
              "1600        1600                    Moved two NOPASS tests to pass.   \n",
              "2049        2049  removed email address...peeps can contact me t...   \n",
              "1731        1731                       Add first travis config file   \n",
              "844          844                         Updated version properties   \n",
              "2050        2050                          removed extraneous import   \n",
              "2261        2261                          Fixed error in devkit pom   \n",
              "312          312                    remove custom project site css.   \n",
              "1002        1002  Added relative path to the parent POM so that ...   \n",
              "1823        1823                              Removed Symbolic Link   \n",
              "151          151  Remove forgotten CLI module reference in paren...   \n",
              "2170        2170                                   Create README.md   \n",
              "281          281  Reconfigured cobertura plugin to produce XML a...   \n",
              "2082        2082                                       Revert test.   \n",
              "2440        2440                       Re - add the proper accessor   \n",
              "1770        1770                               Modify the CHANGELOG   \n",
              "773          773                                         Make final   \n",
              "966          966                                        Add Javadoc   \n",
              "1689        1689                       Remove build of orchestrator   \n",
              "1777        1777  add @Deprecated to make sure it is not part of...   \n",
              "2473        2473                             fixed broken test case   \n",
              "2254        2254                               Smack 4.1.0 - alpha6   \n",
              "1303        1303                 converted pax music to mp3 for ios   \n",
              "2275        2275  Make getListView() public and hidden , as it i...   \n",
              "\n",
              "      Freeze ST + BiLSTM  BERT + BiLSTM  ST finetune  \n",
              "2235                   0              0            0  \n",
              "2174                   3              3            3  \n",
              "1060                   3              3            0  \n",
              "981                    2              0            0  \n",
              "916                    3              0            3  \n",
              "1611                   3              3            3  \n",
              "1546                   3              3            3  \n",
              "1600                   3              3            3  \n",
              "2049                   3              0            0  \n",
              "1731                   3              3            0  \n",
              "844                    0              0            0  \n",
              "2050                   0              0            0  \n",
              "2261                   2              2            2  \n",
              "312                    3              0            0  \n",
              "1002                   3              3            3  \n",
              "1823                   1              0            0  \n",
              "151                    3              0            0  \n",
              "2170                   0              0            0  \n",
              "281                    0              0            3  \n",
              "2082                   3              3            3  \n",
              "2440                   0              3            3  \n",
              "1770                   3              0            0  \n",
              "773                    1              3            1  \n",
              "966                    3              3            3  \n",
              "1689                   3              3            3  \n",
              "1777                   3              0            0  \n",
              "2473                   2              2            2  \n",
              "2254                   0              1            0  \n",
              "1303                   3              3            0  \n",
              "2275                   3              3            3  "
            ],
            "text/html": [
              "\n",
              "  <div id=\"df-b99898b3-c870-4c3b-961d-71c480249ab4\">\n",
              "    <div class=\"colab-df-container\">\n",
              "      <div>\n",
              "<style scoped>\n",
              "    .dataframe tbody tr th:only-of-type {\n",
              "        vertical-align: middle;\n",
              "    }\n",
              "\n",
              "    .dataframe tbody tr th {\n",
              "        vertical-align: top;\n",
              "    }\n",
              "\n",
              "    .dataframe thead th {\n",
              "        text-align: right;\n",
              "    }\n",
              "</style>\n",
              "<table border=\"1\" class=\"dataframe\">\n",
              "  <thead>\n",
              "    <tr style=\"text-align: right;\">\n",
              "      <th></th>\n",
              "      <th>Unnamed: 0</th>\n",
              "      <th>message</th>\n",
              "      <th>Freeze ST + BiLSTM</th>\n",
              "      <th>BERT + BiLSTM</th>\n",
              "      <th>ST finetune</th>\n",
              "    </tr>\n",
              "  </thead>\n",
              "  <tbody>\n",
              "    <tr>\n",
              "      <th>2235</th>\n",
              "      <td>2235</td>\n",
              "      <td>Upgrade ActionBarSherlock to 4.2.0</td>\n",
              "      <td>0</td>\n",
              "      <td>0</td>\n",
              "      <td>0</td>\n",
              "    </tr>\n",
              "    <tr>\n",
              "      <th>2174</th>\n",
              "      <td>2174</td>\n",
              "      <td>Make an internal class package private \"</td>\n",
              "      <td>3</td>\n",
              "      <td>3</td>\n",
              "      <td>3</td>\n",
              "    </tr>\n",
              "    <tr>\n",
              "      <th>1060</th>\n",
              "      <td>1060</td>\n",
              "      <td>added chromecast to changelog</td>\n",
              "      <td>3</td>\n",
              "      <td>3</td>\n",
              "      <td>0</td>\n",
              "    </tr>\n",
              "    <tr>\n",
              "      <th>981</th>\n",
              "      <td>981</td>\n",
              "      <td>Fixing broken dropdown asset in Honeycomb as well</td>\n",
              "      <td>2</td>\n",
              "      <td>0</td>\n",
              "      <td>0</td>\n",
              "    </tr>\n",
              "    <tr>\n",
              "      <th>916</th>\n",
              "      <td>916</td>\n",
              "      <td>Remove annoucement on BottomSheetDialog Backgr...</td>\n",
              "      <td>3</td>\n",
              "      <td>0</td>\n",
              "      <td>3</td>\n",
              "    </tr>\n",
              "    <tr>\n",
              "      <th>1611</th>\n",
              "      <td>1611</td>\n",
              "      <td>Make blueprints - test a test scope dependency</td>\n",
              "      <td>3</td>\n",
              "      <td>3</td>\n",
              "      <td>3</td>\n",
              "    </tr>\n",
              "    <tr>\n",
              "      <th>1546</th>\n",
              "      <td>1546</td>\n",
              "      <td>give access to the defining classloader</td>\n",
              "      <td>3</td>\n",
              "      <td>3</td>\n",
              "      <td>3</td>\n",
              "    </tr>\n",
              "    <tr>\n",
              "      <th>1600</th>\n",
              "      <td>1600</td>\n",
              "      <td>Moved two NOPASS tests to pass.</td>\n",
              "      <td>3</td>\n",
              "      <td>3</td>\n",
              "      <td>3</td>\n",
              "    </tr>\n",
              "    <tr>\n",
              "      <th>2049</th>\n",
              "      <td>2049</td>\n",
              "      <td>removed email address...peeps can contact me t...</td>\n",
              "      <td>3</td>\n",
              "      <td>0</td>\n",
              "      <td>0</td>\n",
              "    </tr>\n",
              "    <tr>\n",
              "      <th>1731</th>\n",
              "      <td>1731</td>\n",
              "      <td>Add first travis config file</td>\n",
              "      <td>3</td>\n",
              "      <td>3</td>\n",
              "      <td>0</td>\n",
              "    </tr>\n",
              "    <tr>\n",
              "      <th>844</th>\n",
              "      <td>844</td>\n",
              "      <td>Updated version properties</td>\n",
              "      <td>0</td>\n",
              "      <td>0</td>\n",
              "      <td>0</td>\n",
              "    </tr>\n",
              "    <tr>\n",
              "      <th>2050</th>\n",
              "      <td>2050</td>\n",
              "      <td>removed extraneous import</td>\n",
              "      <td>0</td>\n",
              "      <td>0</td>\n",
              "      <td>0</td>\n",
              "    </tr>\n",
              "    <tr>\n",
              "      <th>2261</th>\n",
              "      <td>2261</td>\n",
              "      <td>Fixed error in devkit pom</td>\n",
              "      <td>2</td>\n",
              "      <td>2</td>\n",
              "      <td>2</td>\n",
              "    </tr>\n",
              "    <tr>\n",
              "      <th>312</th>\n",
              "      <td>312</td>\n",
              "      <td>remove custom project site css.</td>\n",
              "      <td>3</td>\n",
              "      <td>0</td>\n",
              "      <td>0</td>\n",
              "    </tr>\n",
              "    <tr>\n",
              "      <th>1002</th>\n",
              "      <td>1002</td>\n",
              "      <td>Added relative path to the parent POM so that ...</td>\n",
              "      <td>3</td>\n",
              "      <td>3</td>\n",
              "      <td>3</td>\n",
              "    </tr>\n",
              "    <tr>\n",
              "      <th>1823</th>\n",
              "      <td>1823</td>\n",
              "      <td>Removed Symbolic Link</td>\n",
              "      <td>1</td>\n",
              "      <td>0</td>\n",
              "      <td>0</td>\n",
              "    </tr>\n",
              "    <tr>\n",
              "      <th>151</th>\n",
              "      <td>151</td>\n",
              "      <td>Remove forgotten CLI module reference in paren...</td>\n",
              "      <td>3</td>\n",
              "      <td>0</td>\n",
              "      <td>0</td>\n",
              "    </tr>\n",
              "    <tr>\n",
              "      <th>2170</th>\n",
              "      <td>2170</td>\n",
              "      <td>Create README.md</td>\n",
              "      <td>0</td>\n",
              "      <td>0</td>\n",
              "      <td>0</td>\n",
              "    </tr>\n",
              "    <tr>\n",
              "      <th>281</th>\n",
              "      <td>281</td>\n",
              "      <td>Reconfigured cobertura plugin to produce XML a...</td>\n",
              "      <td>0</td>\n",
              "      <td>0</td>\n",
              "      <td>3</td>\n",
              "    </tr>\n",
              "    <tr>\n",
              "      <th>2082</th>\n",
              "      <td>2082</td>\n",
              "      <td>Revert test.</td>\n",
              "      <td>3</td>\n",
              "      <td>3</td>\n",
              "      <td>3</td>\n",
              "    </tr>\n",
              "    <tr>\n",
              "      <th>2440</th>\n",
              "      <td>2440</td>\n",
              "      <td>Re - add the proper accessor</td>\n",
              "      <td>0</td>\n",
              "      <td>3</td>\n",
              "      <td>3</td>\n",
              "    </tr>\n",
              "    <tr>\n",
              "      <th>1770</th>\n",
              "      <td>1770</td>\n",
              "      <td>Modify the CHANGELOG</td>\n",
              "      <td>3</td>\n",
              "      <td>0</td>\n",
              "      <td>0</td>\n",
              "    </tr>\n",
              "    <tr>\n",
              "      <th>773</th>\n",
              "      <td>773</td>\n",
              "      <td>Make final</td>\n",
              "      <td>1</td>\n",
              "      <td>3</td>\n",
              "      <td>1</td>\n",
              "    </tr>\n",
              "    <tr>\n",
              "      <th>966</th>\n",
              "      <td>966</td>\n",
              "      <td>Add Javadoc</td>\n",
              "      <td>3</td>\n",
              "      <td>3</td>\n",
              "      <td>3</td>\n",
              "    </tr>\n",
              "    <tr>\n",
              "      <th>1689</th>\n",
              "      <td>1689</td>\n",
              "      <td>Remove build of orchestrator</td>\n",
              "      <td>3</td>\n",
              "      <td>3</td>\n",
              "      <td>3</td>\n",
              "    </tr>\n",
              "    <tr>\n",
              "      <th>1777</th>\n",
              "      <td>1777</td>\n",
              "      <td>add @Deprecated to make sure it is not part of...</td>\n",
              "      <td>3</td>\n",
              "      <td>0</td>\n",
              "      <td>0</td>\n",
              "    </tr>\n",
              "    <tr>\n",
              "      <th>2473</th>\n",
              "      <td>2473</td>\n",
              "      <td>fixed broken test case</td>\n",
              "      <td>2</td>\n",
              "      <td>2</td>\n",
              "      <td>2</td>\n",
              "    </tr>\n",
              "    <tr>\n",
              "      <th>2254</th>\n",
              "      <td>2254</td>\n",
              "      <td>Smack 4.1.0 - alpha6</td>\n",
              "      <td>0</td>\n",
              "      <td>1</td>\n",
              "      <td>0</td>\n",
              "    </tr>\n",
              "    <tr>\n",
              "      <th>1303</th>\n",
              "      <td>1303</td>\n",
              "      <td>converted pax music to mp3 for ios</td>\n",
              "      <td>3</td>\n",
              "      <td>3</td>\n",
              "      <td>0</td>\n",
              "    </tr>\n",
              "    <tr>\n",
              "      <th>2275</th>\n",
              "      <td>2275</td>\n",
              "      <td>Make getListView() public and hidden , as it i...</td>\n",
              "      <td>3</td>\n",
              "      <td>3</td>\n",
              "      <td>3</td>\n",
              "    </tr>\n",
              "  </tbody>\n",
              "</table>\n",
              "</div>\n",
              "      <button class=\"colab-df-convert\" onclick=\"convertToInteractive('df-b99898b3-c870-4c3b-961d-71c480249ab4')\"\n",
              "              title=\"Convert this dataframe to an interactive table.\"\n",
              "              style=\"display:none;\">\n",
              "        \n",
              "  <svg xmlns=\"http://www.w3.org/2000/svg\" height=\"24px\"viewBox=\"0 0 24 24\"\n",
              "       width=\"24px\">\n",
              "    <path d=\"M0 0h24v24H0V0z\" fill=\"none\"/>\n",
              "    <path d=\"M18.56 5.44l.94 2.06.94-2.06 2.06-.94-2.06-.94-.94-2.06-.94 2.06-2.06.94zm-11 1L8.5 8.5l.94-2.06 2.06-.94-2.06-.94L8.5 2.5l-.94 2.06-2.06.94zm10 10l.94 2.06.94-2.06 2.06-.94-2.06-.94-.94-2.06-.94 2.06-2.06.94z\"/><path d=\"M17.41 7.96l-1.37-1.37c-.4-.4-.92-.59-1.43-.59-.52 0-1.04.2-1.43.59L10.3 9.45l-7.72 7.72c-.78.78-.78 2.05 0 2.83L4 21.41c.39.39.9.59 1.41.59.51 0 1.02-.2 1.41-.59l7.78-7.78 2.81-2.81c.8-.78.8-2.07 0-2.86zM5.41 20L4 18.59l7.72-7.72 1.47 1.35L5.41 20z\"/>\n",
              "  </svg>\n",
              "      </button>\n",
              "      \n",
              "  <style>\n",
              "    .colab-df-container {\n",
              "      display:flex;\n",
              "      flex-wrap:wrap;\n",
              "      gap: 12px;\n",
              "    }\n",
              "\n",
              "    .colab-df-convert {\n",
              "      background-color: #E8F0FE;\n",
              "      border: none;\n",
              "      border-radius: 50%;\n",
              "      cursor: pointer;\n",
              "      display: none;\n",
              "      fill: #1967D2;\n",
              "      height: 32px;\n",
              "      padding: 0 0 0 0;\n",
              "      width: 32px;\n",
              "    }\n",
              "\n",
              "    .colab-df-convert:hover {\n",
              "      background-color: #E2EBFA;\n",
              "      box-shadow: 0px 1px 2px rgba(60, 64, 67, 0.3), 0px 1px 3px 1px rgba(60, 64, 67, 0.15);\n",
              "      fill: #174EA6;\n",
              "    }\n",
              "\n",
              "    [theme=dark] .colab-df-convert {\n",
              "      background-color: #3B4455;\n",
              "      fill: #D2E3FC;\n",
              "    }\n",
              "\n",
              "    [theme=dark] .colab-df-convert:hover {\n",
              "      background-color: #434B5C;\n",
              "      box-shadow: 0px 1px 3px 1px rgba(0, 0, 0, 0.15);\n",
              "      filter: drop-shadow(0px 1px 2px rgba(0, 0, 0, 0.3));\n",
              "      fill: #FFFFFF;\n",
              "    }\n",
              "  </style>\n",
              "\n",
              "      <script>\n",
              "        const buttonEl =\n",
              "          document.querySelector('#df-b99898b3-c870-4c3b-961d-71c480249ab4 button.colab-df-convert');\n",
              "        buttonEl.style.display =\n",
              "          google.colab.kernel.accessAllowed ? 'block' : 'none';\n",
              "\n",
              "        async function convertToInteractive(key) {\n",
              "          const element = document.querySelector('#df-b99898b3-c870-4c3b-961d-71c480249ab4');\n",
              "          const dataTable =\n",
              "            await google.colab.kernel.invokeFunction('convertToInteractive',\n",
              "                                                     [key], {});\n",
              "          if (!dataTable) return;\n",
              "\n",
              "          const docLinkHtml = 'Like what you see? Visit the ' +\n",
              "            '<a target=\"_blank\" href=https://colab.research.google.com/notebooks/data_table.ipynb>data table notebook</a>'\n",
              "            + ' to learn more about interactive tables.';\n",
              "          element.innerHTML = '';\n",
              "          dataTable['output_type'] = 'display_data';\n",
              "          await google.colab.output.renderOutput(dataTable, element);\n",
              "          const docLink = document.createElement('div');\n",
              "          docLink.innerHTML = docLinkHtml;\n",
              "          element.appendChild(docLink);\n",
              "        }\n",
              "      </script>\n",
              "    </div>\n",
              "  </div>\n",
              "  "
            ]
          },
          "metadata": {},
          "execution_count": 25
        }
      ]
    }
  ]
}